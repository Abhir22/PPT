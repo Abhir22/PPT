{
  "metadata": {
    "kernelspec": {
      "name": "python",
      "display_name": "Python (Pyodide)",
      "language": "python"
    },
    "language_info": {
      "codemirror_mode": {
        "name": "python",
        "version": 3
      },
      "file_extension": ".py",
      "mimetype": "text/x-python",
      "name": "python",
      "nbconvert_exporter": "python",
      "pygments_lexer": "ipython3",
      "version": "3.8"
    }
  },
  "nbformat_minor": 5,
  "nbformat": 4,
  "cells": [
    {
      "cell_type": "markdown",
      "source": "Question 1\n\nGiven an integer `n`, return `true` if it is a power of three. Otherwise, return `false`.\n\nAn integer `n` is a power of three, if there exists an integer `x` such that `n == 3x`.",
      "metadata": {},
      "id": "d9d4fd5a-f46d-42da-8d1c-851b1e057165"
    },
    {
      "cell_type": "code",
      "source": "def is_power_of_three(n):\n    if n <= 0:\n        return False\n    while n % 3 == 0:\n        n //= 3\n    return n == 1\nnumber = 27\nresult = is_power_of_three(number)\nprint(result) \n",
      "metadata": {
        "trusted": true
      },
      "execution_count": 1,
      "outputs": [
        {
          "name": "stdout",
          "text": "True\n",
          "output_type": "stream"
        }
      ],
      "id": "4ddcf83f-20e7-405e-a02a-d54026673779"
    },
    {
      "cell_type": "markdown",
      "source": "Question 2\n\nYou have a list `arr` of all integers in the range `[1, n]` sorted in a strictly increasing order. Apply the following algorithm on `arr`:\n\n- Starting from left to right, remove the first number and every other number afterward until you reach the end of the list.\n- Repeat the previous step again, but this time from right to left, remove the rightmost number and every other number from the remaining numbers.\n- Keep repeating the steps again, alternating left to right and right to left, until a single number remains.\n\nGiven the integer `n`, return the last number that remains in `arr`.",
      "metadata": {},
      "id": "c9eac9f4-d088-4cca-8cfd-3b01e41f828c"
    },
    {
      "cell_type": "code",
      "source": "def lastRemaining(n):\n    arr = list(range(1, n+1))  \n    left_to_right = True \n\n    while len(arr) > 1:\n        if left_to_right:\n            arr = arr[1::2]\n        else:\n            arr = arr[-2::-2][::-1]\n\n        left_to_right = not left_to_right  \n\n    return arr[0]\nn = 9\nresult = lastRemaining(n)\nprint(result)\n",
      "metadata": {
        "trusted": true
      },
      "execution_count": 11,
      "outputs": [
        {
          "name": "stdout",
          "text": "6\n",
          "output_type": "stream"
        }
      ],
      "id": "4b6c01e3-ba3b-415f-9887-3c552c69fe56"
    },
    {
      "cell_type": "markdown",
      "source": "Question 3\nGiven a set represented as a string, write a recursive code to print all subsets of it. The subsets can be printed in any order.",
      "metadata": {},
      "id": "d4a5acc1-14e3-4cbf-9c1c-1c96924ffc15"
    },
    {
      "cell_type": "code",
      "source": "def printSubsets(set, subset=\"\"):\n    if len(set) == 0:\n        print(subset)\n    else:\n        printSubsets(set[1:], subset)\n        printSubsets(set[1:], subset + set[0])\n\nset = \"abc\"\nprintSubsets(set)\n",
      "metadata": {
        "trusted": true
      },
      "execution_count": 13,
      "outputs": [
        {
          "name": "stdout",
          "text": "",
          "output_type": "stream"
        },
        {
          "name": "stdout",
          "text": "\nc\nb\nbc\na\nac\nab\nabc\n",
          "output_type": "stream"
        }
      ],
      "id": "5f476e10-cb1c-498a-9796-0c28d2048922"
    },
    {
      "cell_type": "markdown",
      "source": "Question 4\n\nGiven a string calculate length of the string using recursion.\n",
      "metadata": {},
      "id": "488c03af-7ab1-4edd-9e97-fe97a5d8aebf"
    },
    {
      "cell_type": "code",
      "source": "def calculateLength(str):\n    if str == \"\":\n        return 0\n    else:\n        return 1 + calculateLength(str[1:])\nstr1 = \"abcd\"\nprint(\"Length of '{}' is: {}\".format(str1, calculateLength(str1)))\n\nstr2 = \"GEEKSFORGEEKS\"\nprint(\"Length of '{}' is: {}\".format(str2, calculateLength(str2)))\n",
      "metadata": {
        "trusted": true
      },
      "execution_count": 17,
      "outputs": [
        {
          "name": "stdout",
          "text": "Length of 'abcd' is: 4\nLength of 'GEEKSFORGEEKS' is: 13\n",
          "output_type": "stream"
        }
      ],
      "id": "596488bd-e867-4c82-863c-1b4a0a668d7a"
    },
    {
      "cell_type": "markdown",
      "source": "Question 5\n\nWe are given a string S, we need to find count of all contiguous substrings starting and ending with same character.\n",
      "metadata": {},
      "id": "9b395d7d-a4ea-4e6c-b6d8-13b0bf0b4b84"
    },
    {
      "cell_type": "code",
      "source": "def countSubstrings(s):\n    if len(s) < 2:\n        return len(s)\n    \n    count = len(s)\n    \n    for i in range(len(s)):\n        j = i + 1\n        while j < len(s):\n            if s[i] == s[j]:\n                count += 1\n                j += 1\n            else:\n                break\n\n    return count\ns1 = \"abcab\"\nprint(\"Count of substrings in '{}' is: {}\".format(s1, countSubstrings(s1)))\n\ns2 = \"aba\"\nprint(\"Count of substrings in '{}' is: {}\".format(s2, countSubstrings(s2)))\n",
      "metadata": {
        "trusted": true
      },
      "execution_count": 18,
      "outputs": [
        {
          "name": "stdout",
          "text": "Count of substrings in 'abcab' is: 5\nCount of substrings in 'aba' is: 3\n",
          "output_type": "stream"
        }
      ],
      "id": "f145bd0d-8ccd-4b2c-b3d6-f1f567a409d7"
    },
    {
      "cell_type": "markdown",
      "source": "Question 6\n\nThe tower of Hanoi is a famous puzzle where we have three rods and N disks. \nThe objective of the puzzle is to move the entire stack to another rod. You are given the number of discs N.\nInitially, these discs are in the rod 1. You need to print all the steps of discs movement so that all the discs reach the 3rd rod.\nAlso, you need to find the total moves.Note: The discs are arranged such that the top disc is numbered 1 and the bottom-most disc is numbered N.\nAlso, all the discs have different sizes and a bigger disc cannot be put on the top of a smaller disc.\nRefer the provided link to get a better clarity about the puzzle.",
      "metadata": {},
      "id": "1342577f-14bc-48b8-be12-aaed537eb3b2"
    },
    {
      "cell_type": "code",
      "source": "def towerOfHanoi(n, source, destination, auxiliary):\n    if n == 1:\n        print(\"Move disk 1 from rod {} to rod {}\".format(source, destination))\n        return 1\n    \n    count = 0\n    \n    count += towerOfHanoi(n-1, source, auxiliary, destination)\n    print(\"Move disk {} from rod {} to rod {}\".format(n, source, destination))\n    count += 1\n    count += towerOfHanoi(n-1, auxiliary, destination, source)\n    \n    return count\nN = 2\nprint(\"Total moves:\", towerOfHanoi(N, 1, 3, 2))\n",
      "metadata": {
        "trusted": true
      },
      "execution_count": 20,
      "outputs": [
        {
          "name": "stdout",
          "text": "Move disk 1 from rod 1 to rod 2\nMove disk 2 from rod 1 to rod 3\nMove disk 1 from rod 2 to rod 3\nTotal moves: 3\n",
          "output_type": "stream"
        }
      ],
      "id": "ed5058c1-d29f-40bc-b2dd-2f59c01c9f82"
    },
    {
      "cell_type": "markdown",
      "source": "Question 7\n\nGiven a string str, the task is to print all the permutations of str. A permutation is an arrangement of all or part of a set of objects, with \nregard to the order of the arrangement. For instance, the words ‘bat’ and ‘tab’ represents two distinct permutation (or arrangements) of a similar\nthree letter word.\n",
      "metadata": {},
      "id": "1f23cf9e-ea97-4782-8338-92edec5343d0"
    },
    {
      "cell_type": "code",
      "source": "def permute(s, l, r):\n    if l == r:\n        print(\"\".join(s))\n    else:\n        for i in range(l, r + 1):\n            s[l], s[i] = s[i], s[l]\n            permute(s, l + 1, r)  \n            s[l], s[i] = s[i], s[l]  \n\nstr = \"abb\"\nn = len(str)\npermute(list(str), 0, n - 1)\n",
      "metadata": {
        "trusted": true
      },
      "execution_count": 22,
      "outputs": [
        {
          "name": "stdout",
          "text": "abb\nabb\nbab\nbba\nbba\nbab\n",
          "output_type": "stream"
        }
      ],
      "id": "21c4e9a1-c1af-4068-ab62-7110526025b4"
    },
    {
      "cell_type": "markdown",
      "source": "Question 8\n\nGiven a string, count total number of consonants in it. A consonant is an English alphabet character that is not vowel (a, e, i, o and u). Examples of constants are b, c, d, f, and g.\n",
      "metadata": {},
      "id": "a68d1bc7-7392-4f9d-906e-83e7599ae3b6"
    },
    {
      "cell_type": "code",
      "source": "def count_consonants(string):\n    consonants = \"bcdfghjklmnpqrstvwxyz\" \n    count = 0\n    \n    for char in string:\n        if char.lower() in consonants:\n            count += 1\n    \n    return count\nstr1 = \"abc de\"\nstr2 = \"geeksforgeeks portal\"\n\nprint(count_consonants(str1))  #\nprint(count_consonants(str2))  \n",
      "metadata": {
        "trusted": true
      },
      "execution_count": 24,
      "outputs": [
        {
          "name": "stdout",
          "text": "3\n12\n",
          "output_type": "stream"
        }
      ],
      "id": "2bd003c7-75f5-4209-b517-a2a062a5037f"
    },
    {
      "cell_type": "code",
      "source": "",
      "metadata": {},
      "execution_count": null,
      "outputs": [],
      "id": "6efaf9e4-fe1b-42c3-80a9-100af3b76d45"
    }
  ]
}