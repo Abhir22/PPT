{
  "metadata": {
    "kernelspec": {
      "name": "python",
      "display_name": "Python (Pyodide)",
      "language": "python"
    },
    "language_info": {
      "codemirror_mode": {
        "name": "python",
        "version": 3
      },
      "file_extension": ".py",
      "mimetype": "text/x-python",
      "name": "python",
      "nbconvert_exporter": "python",
      "pygments_lexer": "ipython3",
      "version": "3.8"
    }
  },
  "nbformat_minor": 5,
  "nbformat": 4,
  "cells": [
    {
      "cell_type": "markdown",
      "source": "Question 1\n\nGiven an array arr[ ] of size N having elements, the task is to find the next greater element for each element of the array in order of their appearance in the array.Next greater element of an element in the array is the nearest element on the right which is greater than the current element.If there does not exist next greater of current element, then next greater element for current element is -1. For example, next greater of the last element is always -1.\n",
      "metadata": {},
      "id": "eee174e0-1d71-40da-a5b7-d4da27076abc"
    },
    {
      "cell_type": "code",
      "source": "def findNextGreaterElements(arr):\n    stack = []\n    result = [-1] * len(arr)\n    for i in range(len(arr) - 1, -1, -1):\n        while stack and stack[-1] <= arr[i]:\n            stack.pop()\n        if stack:\n            result[i] = stack[-1]\n        stack.append(arr[i])\n    return result[::-1]\narr = [1, 3, 2, 4]\nresult = findNextGreaterElements(arr)\nprint(result)\n",
      "metadata": {
        "trusted": true
      },
      "execution_count": 2,
      "outputs": [
        {
          "name": "stdout",
          "text": "[-1, 4, 4, 3]\n",
          "output_type": "stream"
        }
      ],
      "id": "860f62f8-8efc-4d96-949a-b6bd6ac1ed9c"
    },
    {
      "cell_type": "markdown",
      "source": "Question 2\n\nGiven an array a of integers of length n, find the nearest smaller number for every element such that the smaller element is on left side.If no small element present on the left print -1.\n",
      "metadata": {},
      "id": "14a6b933-4dcc-4a43-8acd-daf1a59f584d"
    },
    {
      "cell_type": "code",
      "source": "def findNearestSmallerElements(a):\n    stack = []\n    result = []\n    for i in range(len(a)):\n        while stack and stack[-1] >= a[i]:\n            stack.pop()\n        if stack:\n            result.append(stack[-1])\n        else:\n            result.append(-1)\n        stack.append(a[i])\n    return result\na = [1, 6, 2]\nresult = findNearestSmallerElements(a)\nprint(result)",
      "metadata": {
        "trusted": true
      },
      "execution_count": 5,
      "outputs": [
        {
          "name": "stdout",
          "text": "[-1, 1, 1]\n",
          "output_type": "stream"
        }
      ],
      "id": "070b7ac8-37bd-4dc7-bc1f-48058c78c19b"
    },
    {
      "cell_type": "markdown",
      "source": "Question 3\n\nImplement a Stack using two queues q1 and q2.",
      "metadata": {},
      "id": "9c9f3475-ee5d-4572-82ea-e929c2d78090"
    },
    {
      "cell_type": "code",
      "source": "class Stack:\n    def __init__(self):\n        self.q1 = []\n        self.q2 = []\n\n    def push(self, x):\n        self.q1.append(x)\n\n    def pop(self):\n        if not self.q1:\n            return None\n        \n        while len(self.q1) > 1:\n            self.q2.append(self.q1.pop(0))\n        \n        popped_element = self.q1.pop(0)\n        \n        self.q1, self.q2 = self.q2, self.q1\n        \n        return popped_element\nstack = Stack()\nstack.push(2)\nstack.push(3)\nprint(stack.pop())  \nstack.push(4)\nprint(stack.pop()) \n",
      "metadata": {
        "trusted": true
      },
      "execution_count": 11,
      "outputs": [
        {
          "name": "stdout",
          "text": "3\n4\n",
          "output_type": "stream"
        }
      ],
      "id": "e02cce25-ba99-4b52-a86f-9f1400bb039b"
    },
    {
      "cell_type": "markdown",
      "source": "Question 4\n\nYou are given a stack St. You have to reverse the stack using recursion.\n",
      "metadata": {},
      "id": "6eb6b513-f0a8-418b-9a2a-ab99a5685e17"
    },
    {
      "cell_type": "code",
      "source": "def reverseStack(St):\n    if len(St) <= 1:\n        return\n    else:\n        top = St.pop()\n        reverseStack(St)\n        insertAtBottom(St, top)\n\ndef insertAtBottom(St, item):\n    if len(St) == 0:\n        St.append(item)\n    else:\n        top = St.pop()\n        insertAtBottom(St, item)\n        St.append(top)\nSt = [4, 3, 9, 6]\nreverseStack(St)\nprint(St)  ",
      "metadata": {
        "trusted": true
      },
      "execution_count": 13,
      "outputs": [
        {
          "name": "stdout",
          "text": "[6, 9, 3, 4]\n",
          "output_type": "stream"
        }
      ],
      "id": "c5ded8d8-3107-4190-af79-5f3d9e470306"
    },
    {
      "cell_type": "markdown",
      "source": "Question 5\n\nYou are given a string S, the task is to reverse the string using stack.\n",
      "metadata": {},
      "id": "aef03fde-e415-43ad-bd9f-fab0948ac76e"
    },
    {
      "cell_type": "code",
      "source": "def reverseString(S):\n    stack = []\n    for char in S:\n        stack.append(char)\n    \n    reversed_string = \"\"\n    while stack:\n        reversed_string += stack.pop()\n    \n    return reversed_string\nS = \"GeeksforGeeks\"\nreversed_str = reverseString(S)\nprint(reversed_str) ",
      "metadata": {
        "trusted": true
      },
      "execution_count": 16,
      "outputs": [
        {
          "name": "stdout",
          "text": "skeeGrofskeeG\n",
          "output_type": "stream"
        }
      ],
      "id": "3c6d5f18-b3de-4af5-b4b4-d0a7b08af03b"
    },
    {
      "cell_type": "markdown",
      "source": "Question 6\n\nGiven string S representing a postfix expression, the task is to evaluate the expression and find the final value. Operators will only include the basic arithmetic operators like ***, /, + and -**.\n",
      "metadata": {},
      "id": "d33739c7-dd40-4081-8ed1-ae253937b658"
    },
    {
      "cell_type": "code",
      "source": "def evaluatePostfix(S):\n    stack = []\n    for char in S:\n        if char.isdigit():\n            stack.append(int(char))\n        else:\n            operand2 = stack.pop()\n            operand1 = stack.pop()\n            result = performOperation(operand1, operand2, char)\n            stack.append(result)\n    \n    return stack.pop()\n\ndef performOperation(operand1, operand2, operator):\n    if operator == '+':\n        return operand1 + operand2\n    elif operator == '-':\n        return operand1 - operand2\n    elif operator == '*':\n        return operand1 * operand2\n    elif operator == '/':\n        return operand1 / operand2\n\nS = \"231*+9-\"\nresult = evaluatePostfix(S)\nprint(result) \n",
      "metadata": {
        "trusted": true
      },
      "execution_count": 19,
      "outputs": [
        {
          "name": "stdout",
          "text": "-4\n",
          "output_type": "stream"
        }
      ],
      "id": "6d72fd0c-b5f6-4a5c-a2f2-c8035bd9c255"
    },
    {
      "cell_type": "markdown",
      "source": "Question 7\n\nDesign a stack that supports push, pop, top, and retrieving the minimum element in constant time.\n\nImplement the `MinStack` class:\n\n- `MinStack()` initializes the stack object.\n- `void push(int val)` pushes the element `val` onto the stack.\n- `void pop()` removes the element on the top of the stack.\n- `int top()` gets the top element of the stack.\n- `int getMin()` retrieves the minimum element in the stack.\n\nYou must implement a solution with `O(1)` time complexity for each function.\n",
      "metadata": {},
      "id": "1e6bcd0a-7455-4284-af22-9a633da1e804"
    },
    {
      "cell_type": "code",
      "source": "class MinStack:\n    def __init__(self):\n        self.stack = []\n        self.min_stack = []\n\n    def push(self, val):\n        self.stack.append(val)\n        if not self.min_stack or val <= self.min_stack[-1]:\n            self.min_stack.append(val)\n\n    def pop(self):\n        if self.stack:\n            val = self.stack.pop()\n            if val == self.min_stack[-1]:\n                self.min_stack.pop()\n\n    def top(self):\n        if self.stack:\n            return self.stack[-1]\n        return None\n\n    def getMin(self):\n        if self.min_stack:\n            return self.min_stack[-1]\n        return None\nminStack = MinStack()\nminStack.push(-2)\nminStack.push(0)\nminStack.push(-3)\nminStack.getMin()  \nminStack.pop()\nminStack.top()     \nminStack.getMin()  \n",
      "metadata": {
        "trusted": true
      },
      "execution_count": 23,
      "outputs": [
        {
          "execution_count": 23,
          "output_type": "execute_result",
          "data": {
            "text/plain": "-2"
          },
          "metadata": {}
        }
      ],
      "id": "8ddef3f3-3784-4bf5-8461-c9462110426d"
    },
    {
      "cell_type": "markdown",
      "source": "Question 8\n\nGiven `n` non-negative integers representing an elevation map where the width of each bar is `1`, compute how much water it can trap after raining.\n",
      "metadata": {},
      "id": "c7ef5f9d-150d-4de3-b4db-a5138943d560"
    },
    {
      "cell_type": "code",
      "source": "def trap(height):\n    if not height:\n        return 0\n\n    n = len(height)\n    left = 0\n    right = n - 1\n    left_max = right_max = 0\n    water = 0\n\n    while left < right:\n        if height[left] < height[right]:\n            if height[left] >= left_max:\n                left_max = height[left]\n            else:\n                water += left_max - height[left]\n            left += 1\n        else:\n            if height[right] >= right_max:\n                right_max = height[right]\n            else:\n                water += right_max - height[right]\n            right -= 1\n\n    return water\nheight = [0, 1, 0, 2, 1, 0, 1, 3, 2, 1, 2, 1]\nprint(trap(height))  \n",
      "metadata": {
        "trusted": true
      },
      "execution_count": 25,
      "outputs": [
        {
          "name": "stdout",
          "text": "6\n",
          "output_type": "stream"
        }
      ],
      "id": "db9342bb-9e43-4df0-96ca-2d3ee242ed74"
    },
    {
      "cell_type": "code",
      "source": "",
      "metadata": {},
      "execution_count": null,
      "outputs": [],
      "id": "5aec5b21-9f3f-48a4-952f-edba85ab5b64"
    }
  ]
}