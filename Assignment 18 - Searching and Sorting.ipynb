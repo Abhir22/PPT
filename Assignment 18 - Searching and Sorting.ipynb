{
  "metadata": {
    "kernelspec": {
      "name": "python",
      "display_name": "Python (Pyodide)",
      "language": "python"
    },
    "language_info": {
      "codemirror_mode": {
        "name": "python",
        "version": 3
      },
      "file_extension": ".py",
      "mimetype": "text/x-python",
      "name": "python",
      "nbconvert_exporter": "python",
      "pygments_lexer": "ipython3",
      "version": "3.8"
    }
  },
  "nbformat_minor": 5,
  "nbformat": 4,
  "cells": [
    {
      "cell_type": "markdown",
      "source": "1. Merge Intervals\n\nGiven an array of `intervals` where `intervals[i] = [starti, endi]`, merge all overlapping intervals, and return *an array of the non-overlapping intervals that cover all the intervals in the input.\n\n",
      "metadata": {},
      "id": "08065945-6da5-4dcb-9bc6-c702a8d61dbb"
    },
    {
      "cell_type": "code",
      "source": "def merge(intervals):\n    intervals.sort(key=lambda x: x[0]) \n    merged = []\n    for interval in intervals:\n        if not merged or interval[0] > merged[-1][1]:  \n            merged.append(interval)\n        else: \n            merged[-1][1] = max(merged[-1][1], interval[1])\n    return merged\nintervals = [[1,3],[2,6],[8,10],[15,18]]\nmerged_intervals = merge(intervals)\nprint(merged_intervals)\n  \n",
      "metadata": {
        "trusted": true
      },
      "execution_count": 22,
      "outputs": [
        {
          "name": "stdout",
          "text": "[[1, 6], [8, 10], [15, 18]]\n",
          "output_type": "stream"
        }
      ],
      "id": "3f87c114-6fc2-4560-ac5b-2323f156764e"
    },
    {
      "cell_type": "markdown",
      "source": "2. Sort Colors\n\nGiven an array `nums` with `n` objects colored red, white, or blue, sort them in-place so that objects of the same color are adjacent, with the colors in the order red, white, and blue.\n\nWe will use the integers `0`, `1`, and `2` to represent the color red, white, and blue, respectively.\n\n",
      "metadata": {},
      "id": "d16ac96a-5d91-4f7c-80ff-12474f3ed1bf"
    },
    {
      "cell_type": "code",
      "source": "def sortColors(nums):\n    low = 0\n    mid = 0\n    high = len(nums) - 1\n\n    while mid <= high:\n        if nums[mid] == 0:  \n            nums[low], nums[mid] = nums[mid], nums[low]\n            low += 1\n            mid += 1\n        elif nums[mid] == 1:  \n            mid += 1\n        else:  \n            nums[mid], nums[high] = nums[high], nums[mid]\n            high -= 1\nnums = [2, 0, 2, 1, 1, 0]\nsortColors(nums)\nprint(nums)\n",
      "metadata": {
        "trusted": true
      },
      "execution_count": 24,
      "outputs": [
        {
          "name": "stdout",
          "text": "[0, 0, 1, 1, 2, 2]\n",
          "output_type": "stream"
        }
      ],
      "id": "4aa06389-bb41-4fb7-b80e-994c30a23b04"
    },
    {
      "cell_type": "markdown",
      "source": "3. First Bad Version Solution\n\nYou are a product manager and currently leading a team to develop a new product. Unfortunately, the latest version of your product fails the quality check. Since each version is developed based on the previous version, all the versions after a bad version are also bad.\n\nSuppose you have `n` versions `[1, 2, ..., n]` and you want to find out the first bad one, which causes all the following ones to be bad.\n\nYou are given an API `bool isBadVersion(version)` which returns whether `version` is bad. Implement a function to find the first bad version. You should minimize the number of calls to the API.",
      "metadata": {},
      "id": "cb78a855-9dff-4e4a-bb0c-062bd5bb3bb0"
    },
    {
      "cell_type": "code",
      "source": "def isBadVersion(version):\n   \n    bad_versions = [4, 5] \n    return version in bad_versions\n\ndef firstBadVersion(n):\n    left = 1\n    right = n\n\n    while left < right:\n        mid = left + (right - left) // 2\n        if isBadVersion(mid):\n            right = mid\n        else:\n            left = mid + 1\n\n    return left\n\nfirst_bad = firstBadVersion(5)\nprint(first_bad)\n\n",
      "metadata": {
        "trusted": true
      },
      "execution_count": 27,
      "outputs": [
        {
          "name": "stdout",
          "text": "4\n",
          "output_type": "stream"
        }
      ],
      "id": "8ecdfa18-5ae2-4b25-8c1d-235a00ac4400"
    },
    {
      "cell_type": "markdown",
      "source": "4.Maximum Gap\n\nGiven an integer array `nums`, return *the maximum difference between two successive elements in its sorted form*. If the array contains less than two elements, return `0`.\n\nYou must write an algorithm that runs in linear time and uses linear extra space.",
      "metadata": {},
      "id": "6a4d695d-13db-4a55-a264-2aad28591786"
    },
    {
      "cell_type": "code",
      "source": "def maximumGap(nums):\n    if len(nums) < 2:\n        return 0\n\n    max_num = max(nums)\n    min_num = min(nums)\n\n    bucket_size = max(1, (max_num - min_num) // (len(nums) - 1))\n    num_buckets = (max_num - min_num) // bucket_size + 1\n\n    buckets = [[] for _ in range(num_buckets)]\n\n    for num in nums:\n        index = (num - min_num) // bucket_size\n        buckets[index].append(num)\n    bucket_max = max_num\n    prev_max = min_num\n    max_gap = 0\n\n    for bucket in buckets:\n        if not bucket:\n            continue\n\n        bucket_min = min(bucket)\n        bucket_max = max(bucket)\n        max_gap = max(max_gap, bucket_min - prev_max)\n        prev_max = bucket_max\n\n    return max_gap\n\n\nnums = [3, 6, 9, 1]\nmax_gap = maximumGap(nums)\nprint(max_gap)\n",
      "metadata": {
        "trusted": true
      },
      "execution_count": 29,
      "outputs": [
        {
          "name": "stdout",
          "text": "3\n",
          "output_type": "stream"
        }
      ],
      "id": "00c56ea6-4c35-45e7-b53e-4f8f2097e7fd"
    },
    {
      "cell_type": "markdown",
      "source": "5. Contains Duplicate\n\nGiven an integer array `nums`, return `true` if any value appears at least twice in the array, and return `false` if every element is distinct",
      "metadata": {},
      "id": "9d89fc6c-1d3c-406f-8514-ba4f2342410d"
    },
    {
      "cell_type": "code",
      "source": "def containsDuplicate(nums):\n    num_set = set()\n    for num in nums:\n        if num in num_set:\n            return True\n        num_set.add(num)\n    return False\n\nnums = [1, 2, 3, 1]\ncontains_dup = containsDuplicate(nums)\nprint(contains_dup)\n",
      "metadata": {
        "trusted": true
      },
      "execution_count": 30,
      "outputs": [
        {
          "name": "stdout",
          "text": "True\n",
          "output_type": "stream"
        }
      ],
      "id": "2c29b5e2-1d37-426e-a21d-9ca0cc35e3a0"
    },
    {
      "cell_type": "markdown",
      "source": "6. Minimum Number of Arrows to Burst Balloons\n\nThere are some spherical balloons taped onto a flat wall that represents the XY-plane. The balloons are represented as a 2D integer array `points` where `points[i] = [xstart, xend]` denotes a balloon whose horizontal diameter stretches between `xstart` and `xend`. You do not know the exact y-coordinates of the balloons.\n\nArrows can be shot up directly vertically (in the positive y-direction) from different points along the x-axis. A balloon with `xstart` and `xend` is burst by an arrow shot at `x` if `xstart <= x <= xend`. There is no limit to the number of arrows that can be shot. A shot arrow keeps traveling up infinitely, bursting any balloons in its path.",
      "metadata": {},
      "id": "7b5c14a5-622a-45fc-b2c3-8b05c3aeefc8"
    },
    {
      "cell_type": "code",
      "source": "def findMinArrowShots(points):\n    if not points:\n        return 0\n    points.sort(key=lambda x: x[1])\n\n    arrows = 1\n    end = points[0][1]\n\n    for i in range(1, len(points)):\n\n        if points[i][0] > end:\n            arrows += 1\n            end = points[i][1]  # Update the current end point\n\n    return arrows\n\npoints = [[10, 16], [2, 8], [1, 6], [7, 12]]\nmin_arrows = findMinArrowShots(points)\nprint(min_arrows)\n\n",
      "metadata": {
        "trusted": true
      },
      "execution_count": 31,
      "outputs": [
        {
          "name": "stdout",
          "text": "2\n",
          "output_type": "stream"
        }
      ],
      "id": "2d9ff840-1724-4576-b1fa-1e4fbee87907"
    },
    {
      "cell_type": "code",
      "source": "7. Longest Increasing Subsequence\n\nGiven an integer array `nums`, return the length of the longest strictly increasing subsequence\n",
      "metadata": {},
      "execution_count": null,
      "outputs": [],
      "id": "432fad9a-4780-4157-83af-74d97e3f23e2"
    },
    {
      "cell_type": "code",
      "source": "def lengthOfLIS(nums):\n    if not nums:\n        return 0\n\n    n = len(nums)\n    dp = [1] * n \n\n    for i in range(1, n):\n        for j in range(i):\n            if nums[i] > nums[j]:\n                dp[i] = max(dp[i], dp[j] + 1)\n\n    return max(dp)\n\nnums = [0, 1, 0, 3, 2, 3]\nlength = lengthOfLIS(nums)\nprint(length)\n",
      "metadata": {
        "trusted": true
      },
      "execution_count": 32,
      "outputs": [
        {
          "name": "stdout",
          "text": "4\n",
          "output_type": "stream"
        }
      ],
      "id": "4c57fe9c-8a86-4277-bb24-db9829a3b0db"
    },
    {
      "cell_type": "markdown",
      "source": "8. 132 Pattern\n\nGiven an array of `n` integers `nums`, a 132 pattern is a subsequence of three integers `nums[i]`, `nums[j]` and `nums[k]` such that `i < j < k` and `nums[i] < nums[k] < nums[j]`.\n\n",
      "metadata": {},
      "id": "92ef2cb3-a467-4679-988a-e41faf18ebb6"
    },
    {
      "cell_type": "code",
      "source": "def find132pattern(nums):\n    stack = []\n    n = len(nums)\n    max_k = float('-inf')  \n    for i in range(n - 1, -1, -1):\n        if nums[i] < max_k:\n            return True\n        while stack and nums[i] > stack[-1]:\n            max_k = stack.pop()\n        stack.append(nums[i])\n\n    return False\n\nnums = [1, 2, 3, 4]\nhas_pattern = find132pattern(nums)\nprint(has_pattern)\n",
      "metadata": {
        "trusted": true
      },
      "execution_count": 34,
      "outputs": [
        {
          "name": "stdout",
          "text": "False\n",
          "output_type": "stream"
        }
      ],
      "id": "56b5990b-92aa-41c3-9dc3-df14eb2027ad"
    },
    {
      "cell_type": "code",
      "source": "\n",
      "metadata": {},
      "execution_count": null,
      "outputs": [],
      "id": "c9b2128c-4873-4c8f-bbb5-18b424d55252"
    }
  ]
}