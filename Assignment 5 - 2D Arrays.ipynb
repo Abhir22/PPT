{
  "metadata": {
    "kernelspec": {
      "name": "python",
      "display_name": "Python (Pyodide)",
      "language": "python"
    },
    "language_info": {
      "codemirror_mode": {
        "name": "python",
        "version": 3
      },
      "file_extension": ".py",
      "mimetype": "text/x-python",
      "name": "python",
      "nbconvert_exporter": "python",
      "pygments_lexer": "ipython3",
      "version": "3.8"
    }
  },
  "nbformat_minor": 5,
  "nbformat": 4,
  "cells": [
    {
      "cell_type": "markdown",
      "source": "Question 1\nConvert 1D Array Into 2D Array\nYou are given a 0-indexed 1-dimensional (1D) integer array original, and two integers, m and n. You are tasked with creating a 2-dimensional (2D) array with  m rows and n columns using all the elements from original.\n\nThe elements from indices 0 to n - 1 (inclusive) of original should form the first row of the constructed 2D array, the elements from indices n to 2 * n - 1 (inclusive) should form the second row of the constructed 2D array, and so on.\n\nReturn an m x n 2D array constructed according to the above procedure, or an empty 2D array if it is impossible.\n",
      "metadata": {},
      "id": "f696b859-2130-4cab-97b7-0b6569f82549"
    },
    {
      "cell_type": "code",
      "source": "def construct2DArray(original, m, n):\n    if m * n != len(original):\n        return []\n    \n    return [original[i*n : (i+1)*n] for i in range(m)]\noriginal = [1, 2, 3, 4]\nm = 2\nn = 2\nresult = construct2DArray(original, m, n)\nprint(result) \n",
      "metadata": {
        "trusted": true
      },
      "execution_count": 19,
      "outputs": [
        {
          "name": "stdout",
          "text": "[[1, 2], [3, 4]]\n",
          "output_type": "stream"
        }
      ],
      "id": "7a5adc8a-f37c-4c71-a76b-082fc5ef8b35"
    },
    {
      "cell_type": "markdown",
      "source": "Question 2\nYou have n coins and you want to build a staircase with these coins. The staircase consists of k rows where the ith row has exactly i coins.\nThe last row of the staircase may be incomplete.\nGiven the integer n, return the number of complete rows of the staircase you will build.",
      "metadata": {},
      "id": "8c495539-6f47-47a3-a14c-671324902625"
    },
    {
      "cell_type": "code",
      "source": "import math\n\ndef countCompleteRows(n):\n    k = int(math.sqrt(2 * n + 0.25) - 0.5)\n    return k\nn = 5\nresult = countCompleteRows(n)\nprint(result)\n",
      "metadata": {
        "trusted": true
      },
      "execution_count": 20,
      "outputs": [
        {
          "name": "stdout",
          "text": "2\n",
          "output_type": "stream"
        }
      ],
      "id": "2ee42cf2-31e7-422d-94f8-a1efc361ef43"
    },
    {
      "cell_type": "markdown",
      "source": "Question 3\n\nGiven an integer array nums sorted in non-decreasing order, return an array of the squares of each number sorted in non-decreasing order.",
      "metadata": {},
      "id": "fb5d741f-0c91-47f7-9af4-5279a8539915"
    },
    {
      "cell_type": "code",
      "source": "def sortedSquares(nums):\n    squares = []\n    for num in nums:\n        squares.append(num * num)\n    squares.sort()\n    return squares\nnums = [-4, -1, 0, 3, 10]\nresult = sortedSquares(nums)\nprint(result)\n",
      "metadata": {
        "trusted": true
      },
      "execution_count": 21,
      "outputs": [
        {
          "name": "stdout",
          "text": "[0, 1, 9, 16, 100]\n",
          "output_type": "stream"
        }
      ],
      "id": "d7eca79c-0df7-4eaf-86be-0f735138e825"
    },
    {
      "cell_type": "markdown",
      "source": "Question 4\nGiven two 0-indexed integer arrays nums1 and nums2, return a list answer of size 2 where:\n\n- answer[0] is a list of all distinct integers in nums1 which are not present in nums2.\n- answer[1] is a list of all distinct integers in nums2 which are not present in nums1.\n\nNote that the integers in the lists may be returned in any order.",
      "metadata": {},
      "id": "1570b5b1-4c4f-458e-bc83-75105b6852be"
    },
    {
      "cell_type": "code",
      "source": "def findDistinct(nums1, nums2):\n    set1 = set(nums1)\n    set2 = set(nums2)\n    distinct_nums1 = list(set1 - set2)\n    distinct_nums2 = list(set2 - set1)\n    return [distinct_nums1, distinct_nums2]\nnums1 = [1, 2, 3]\nnums2 = [2, 4, 6]\nresult = findDistinct(nums1, nums2)\nprint(result) \n",
      "metadata": {
        "trusted": true
      },
      "execution_count": 22,
      "outputs": [
        {
          "name": "stdout",
          "text": "[[1, 3], [4, 6]]\n",
          "output_type": "stream"
        }
      ],
      "id": "d1ae95cc-0cde-4f15-95cc-b973dd1d2749"
    },
    {
      "cell_type": "markdown",
      "source": "Question 5\nGiven two integer arrays arr1 and arr2, and the integer d, *return the distance value between the two arrays.\nThe distance value is defined as the number of elements arr1[i] such that there is not any element arr2[j] where |arr1[i]-arr2[j]| <= d.",
      "metadata": {},
      "id": "3f191197-f46c-4c4e-87b5-6eb9cd82c2a2"
    },
    {
      "cell_type": "code",
      "source": "def findDistanceValue(arr1, arr2, d):\n    distance = 0\n    for num1 in arr1:\n        found = False\n        for num2 in arr2:\n            if abs(num1 - num2) <= d:\n                found = True\n                break\n        if not found:\n            distance += 1\n    return distance\n\narr1 = [4, 5, 8]\narr2 = [10, 9, 1, 8]\nd = 2\nresult = findDistanceValue(arr1, arr2, d)\nprint(result)",
      "metadata": {
        "trusted": true
      },
      "execution_count": 23,
      "outputs": [
        {
          "name": "stdout",
          "text": "2\n",
          "output_type": "stream"
        }
      ],
      "id": "fc7b5419-d7a9-4943-938b-c329ba7321d2"
    },
    {
      "cell_type": "markdown",
      "source": "Question 6\nGiven an integer array nums of length n where all the integers of nums are in the range [1, n] and each integer appears \nonce or twice, return an array of all the integers that appears twice.\nYou must write an algorithm that runs in O(n) time and uses only constant extra space.",
      "metadata": {},
      "id": "98bf4fee-6ad7-4437-a66e-c6bef889d5bc"
    },
    {
      "cell_type": "code",
      "source": "def findDuplicates(nums):\n    result = []\n    for num in nums:\n        index = abs(num)\n        if nums[index - 1] > 0:\n            nums[index - 1] *= -1\n        else:\n            result.append(index)\n    return result\nnums = [4, 3, 2, 7, 8, 2, 3, 1]\nresult = findDuplicates(nums)\nprint(result) ",
      "metadata": {
        "trusted": true
      },
      "execution_count": 24,
      "outputs": [
        {
          "name": "stdout",
          "text": "[2, 3]\n",
          "output_type": "stream"
        }
      ],
      "id": "4eccf1d8-ae71-44c0-8758-0c264922462e"
    },
    {
      "cell_type": "markdown",
      "source": "Question 7\nSuppose an array of length n sorted in ascending order is rotated between 1 and n times. For example, the array nums = [0,1,2,4,5,6,7] might become:\n- [4,5,6,7,0,1,2] if it was rotated 4 times.\n- [0,1,2,4,5,6,7] if it was rotated 7 times.\nNotice that rotating an array [a[0], a[1], a[2], ..., a[n-1]] 1 time results in the array [a[n-1], a[0], a[1], a[2], ..., a[n-2]].\nGiven the sorted rotated array nums of unique elements, return the minimum element of this array.",
      "metadata": {},
      "id": "b7b09c01-ee58-46f0-a94a-3339649cdc4d"
    },
    {
      "cell_type": "code",
      "source": "def findMin(nums):\n    left = 0\n    right = len(nums) - 1\n\n    while left < right:\n        mid = left + (right - left) // 2\n\n        if nums[mid] > nums[right]:\n            left = mid + 1\n        else:\n            right = mid\n\n    return nums[left]\nnums = [3, 4, 5, 1, 2]\nresult = findMin(nums)\nprint(result)\n",
      "metadata": {
        "trusted": true
      },
      "execution_count": 25,
      "outputs": [
        {
          "name": "stdout",
          "text": "1\n",
          "output_type": "stream"
        }
      ],
      "id": "986870e1-dc6f-4af1-abad-65fc5a6dc6c5"
    },
    {
      "cell_type": "markdown",
      "source": "Question 8\nAn integer array original is transformed into a doubled array changed by appending twice the value of every element in original, \nand then randomly shuffling the resulting array.\nGiven an array changed, return original if changed is a doubled array. If changed is not a doubled array, return an empty array.\nThe elements in original may be returned in any order",
      "metadata": {},
      "id": "f7fef046-2bbd-46fd-a3b8-37c47683d0aa"
    },
    {
      "cell_type": "code",
      "source": "def findOriginalArray(changed):\n    if len(changed) % 2 != 0:\n        return [] \n    changed_set = set(changed)\n    original = []\n\n    while changed_set:\n        num = min(changed_set)\n        double_num = num * 2\n\n        if double_num not in changed_set:\n            return []  \n        original.append(num)\n        changed_set.remove(num)\n        changed_set.remove(double_num)\n\n    return original\nchanged = [1, 3, 4, 2, 6, 8]\nresult = findOriginalArray(changed)\nprint(result)\n",
      "metadata": {
        "trusted": true
      },
      "execution_count": 26,
      "outputs": [
        {
          "name": "stdout",
          "text": "[1, 3, 4]\n",
          "output_type": "stream"
        }
      ],
      "id": "0b51c154-e8d5-426e-92a6-f3c0f7c25268"
    }
  ]
}