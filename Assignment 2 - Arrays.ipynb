{
  "metadata": {
    "language_info": {
      "codemirror_mode": {
        "name": "python",
        "version": 3
      },
      "file_extension": ".py",
      "mimetype": "text/x-python",
      "name": "python",
      "nbconvert_exporter": "python",
      "pygments_lexer": "ipython3",
      "version": "3.8"
    },
    "kernelspec": {
      "name": "python",
      "display_name": "Python (Pyodide)",
      "language": "python"
    }
  },
  "nbformat_minor": 4,
  "nbformat": 4,
  "cells": [
    {
      "cell_type": "markdown",
      "source": "Question 1\nGiven an integer array nums of 2n integers, group these integers into n pairs (a1, b1), (a2, b2),..., (an, bn) \nsuch that the sum of min(ai, bi) for all i is maximized.Return the maximized sum.",
      "metadata": {}
    },
    {
      "cell_type": "code",
      "source": "def PairSum(nums):\n    nums.sort()\n    max_sum = 0\n    for i in range(0, len(nums), 2):\n        max_sum += nums[i]\n    return max_sum\nnums = [1, 4, 3, 2]\nprint(PairSum(nums))",
      "metadata": {
        "trusted": true
      },
      "execution_count": 2,
      "outputs": [
        {
          "name": "stdout",
          "text": "4\n",
          "output_type": "stream"
        }
      ]
    },
    {
      "cell_type": "markdown",
      "source": "Question 2\nAlice has n candies, where the ith candy is of type candyType[i]. Alice noticed that she started to gain weight, so she visited a doctor. \n\nThe doctor advised Alice to only eat n / 2 of the candies she has (n is always even). Alice likes her candies very much, \nand she wants to eat the maximum number of different types of candies while still following the doctor's advice. \n\nGiven the integer array candyType of length n, return the maximum number of different types of candies she can eat if she only eats n / 2 of them.",
      "metadata": {}
    },
    {
      "cell_type": "code",
      "source": "def maxCandies(candyType):\n    uniqueTypes = set(candyType)\n    numUniqueTypes = len(uniqueTypes)\n    maxAllowedTypes = len(candyType) // 2\n\n    return min(numUniqueTypes, maxAllowedTypes)\ncandyType = [1, 1, 2, 2, 3, 3]\nprint(maxCandies(candyType))\n",
      "metadata": {
        "trusted": true
      },
      "execution_count": 3,
      "outputs": [
        {
          "name": "stdout",
          "text": "3\n",
          "output_type": "stream"
        }
      ]
    },
    {
      "cell_type": "markdown",
      "source": "Question 3\nWe define a harmonious array as an array where the difference between its maximum value\nand its minimum value is exactly 1.\n\nGiven an integer array nums, return the length of its longest harmonious subsequence\namong all its possible subsequences.\n\nA subsequence of an array is a sequence that can be derived from the array by deleting some \nor no elements without changing the order of the remaining elements.",
      "metadata": {}
    },
    {
      "cell_type": "code",
      "source": "from collections import defaultdict\n\ndef findLHS(nums):\n    count = defaultdict(int)\n    max_length = 0\n\n    for num in nums:\n        count[num] += 1\n\n    for key in count:\n        if key + 1 in count:\n            max_length = max(max_length, count[key] + count[key + 1])\n\n    return max_length\nnums = [1, 3, 2, 2, 5, 2, 3, 7]\nprint(findLHS(nums))\n",
      "metadata": {
        "trusted": true
      },
      "execution_count": 4,
      "outputs": [
        {
          "name": "stdout",
          "text": "5\n",
          "output_type": "stream"
        }
      ]
    },
    {
      "cell_type": "markdown",
      "source": "Question 4\nYou have a long flowerbed in which some of the plots are planted, and some are not.\nHowever, flowers cannot be planted in adjacent plots.\nGiven an integer array flowerbed containing 0's and 1's, where 0 means empty and 1 means not empty,\nand an integer n, return true if n new flowers can be planted in the flowerbed without violating the no-adjacent-flowers rule and false otherwise.",
      "metadata": {}
    },
    {
      "cell_type": "code",
      "source": "def canPlaceFlowers(flowerbed, n):\n    flowerbed = [0] + flowerbed + [0]\n    i = 1\n    while i < len(flowerbed) - 1:\n        if flowerbed[i] == 0 and flowerbed[i - 1] == 0 and flowerbed[i + 1] == 0:\n            n -= 1\n            flowerbed[i] = 1\n        i += 1\n    return n <= 0\nflowerbed = [1, 0, 0, 0, 1]\nn = 1\nprint(canPlaceFlowers(flowerbed, n))\n",
      "metadata": {
        "trusted": true
      },
      "execution_count": 5,
      "outputs": [
        {
          "name": "stdout",
          "text": "True\n",
          "output_type": "stream"
        }
      ]
    },
    {
      "cell_type": "markdown",
      "source": "Question 5\nGiven an integer array nums, find three numbers whose product is maximum and return the maximum product.",
      "metadata": {}
    },
    {
      "cell_type": "code",
      "source": "def maximum_Product(nums):\n    nums.sort()\n    n = len(nums)\n    return max(nums[n-1] * nums[n-2] * nums[n-3], nums[0] * nums[1] * nums[n-1])\nnums = [1, 2, 3]\nprint(maximum_Product(nums))\n",
      "metadata": {
        "trusted": true
      },
      "execution_count": 6,
      "outputs": [
        {
          "name": "stdout",
          "text": "6\n",
          "output_type": "stream"
        }
      ]
    },
    {
      "cell_type": "markdown",
      "source": "Question 6\nGiven an array of integers nums which is sorted in ascending order, and an integer target,\nwrite a function to search target in nums. If target exists, then return its index. Otherwise,\nreturn -1.\n\nYou must write an algorithm with O(log n) runtime complexity.\n",
      "metadata": {}
    },
    {
      "cell_type": "code",
      "source": "def search(nums, target):\n    try:\n        return nums.index(target)\n    except ValueError:\n        return -1\nnums = [-1, 0, 3, 5, 9, 12]\ntarget = 9\nprint(search(nums, target))\n",
      "metadata": {
        "trusted": true
      },
      "execution_count": 7,
      "outputs": [
        {
          "name": "stdout",
          "text": "4\n",
          "output_type": "stream"
        }
      ]
    },
    {
      "cell_type": "markdown",
      "source": "Question 7\nAn array is monotonic if it is either monotone increasing or monotone decreasing.\n\nAn array nums is monotone increasing if for all i <= j, nums[i] <= nums[j]. An array nums is\nmonotone decreasing if for all i <= j, nums[i] >= nums[j].\n\nGiven an integer array nums, return true if the given array is monotonic, or false otherwise.",
      "metadata": {}
    },
    {
      "cell_type": "code",
      "source": "def isMonotonic(nums):\n    return nums == sorted(nums) or nums == sorted(nums, reverse=True)\nnums = [1, 2, 2, 3]\nprint(isMonotonic(nums))\n",
      "metadata": {
        "trusted": true
      },
      "execution_count": 8,
      "outputs": [
        {
          "name": "stdout",
          "text": "True\n",
          "output_type": "stream"
        }
      ]
    },
    {
      "cell_type": "markdown",
      "source": "Question 8\nYou are given an integer array nums and an integer k.\n\nIn one operation, you can choose any index i where 0 <= i < nums.length and change nums[i] to nums[i] + x where x is an integer from the range [-k, k]. You can apply this operation at most once for each index i.\n\nThe score of nums is the difference between the maximum and minimum elements in nums.\n\nReturn the minimum score of nums after applying the mentioned operation at most once for each index in it.",
      "metadata": {}
    },
    {
      "cell_type": "code",
      "source": "def minScore(nums, k):\n    min_val = min(nums)\n    max_val = max(nums)\n\n    if min_val + k >= max_val - k:\n        return 0\n    else:\n        return max_val - k - (min_val + k)\nnums = [1]\nk = 0\nprint(minScore(nums, k))\n",
      "metadata": {
        "trusted": true
      },
      "execution_count": 9,
      "outputs": [
        {
          "name": "stdout",
          "text": "0\n",
          "output_type": "stream"
        }
      ]
    },
    {
      "cell_type": "code",
      "source": "",
      "metadata": {},
      "execution_count": null,
      "outputs": []
    }
  ]
}