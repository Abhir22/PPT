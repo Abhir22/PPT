{
  "metadata": {
    "kernelspec": {
      "name": "python",
      "display_name": "Python (Pyodide)",
      "language": "python"
    },
    "language_info": {
      "codemirror_mode": {
        "name": "python",
        "version": 3
      },
      "file_extension": ".py",
      "mimetype": "text/x-python",
      "name": "python",
      "nbconvert_exporter": "python",
      "pygments_lexer": "ipython3",
      "version": "3.8"
    }
  },
  "nbformat_minor": 5,
  "nbformat": 4,
  "cells": [
    {
      "cell_type": "markdown",
      "source": "Question 1\nGiven a linked list of N nodes such that it may contain a loop.\n\nA loop here means that the last node of the link list is connected to the node at position X(1-based index). If the link list does not have any loop, X=0.\n\nRemove the loop from the linked list, if it is present, i.e. unlink the last node which is forming the loop.",
      "metadata": {},
      "id": "fa2afe70-8c05-43d0-97d3-32e624bd5336"
    },
    {
      "cell_type": "code",
      "source": "class ListNode:\n    def __init__(self, val=0, next=None):\n        self.val = val\n        self.next = next\n\ndef detectAndRemoveLoop(head):\n    \n    if not head or not head.next:\n        return\n    slow = head\n    fast = head\n\n    while fast and fast.next:\n        slow = slow.next\n        fast = fast.next.next\n        if slow == fast:\n            break\n    if slow != fast:\n        return\n    slow = head\n    while slow.next != fast.next:\n        slow = slow.next\n        fast = fast.next\n    fast.next = None\nhead = ListNode(1)\nnode3 = ListNode(3)\nnode4 = ListNode(4)\nnode2 = ListNode(2)\nhead.next = node3\nnode3.next = node4\nnode4.next = node2\nnode2.next = node4\ndetectAndRemoveLoop(head)\ncurrent = head\nwhile current:\n    print(current.val, end=\" \")\n    current = current.next\n",
      "metadata": {
        "trusted": true
      },
      "execution_count": 3,
      "outputs": [
        {
          "name": "stdout",
          "text": "1 3 4 2 ",
          "output_type": "stream"
        }
      ],
      "id": "ffc67737-b072-4216-8b01-f6c420a23914"
    },
    {
      "cell_type": "markdown",
      "source": "Question 2\n\nA number N is represented in Linked List such that each digit corresponds to a node in linked list. You need to add 1 to it.",
      "metadata": {},
      "id": "8aaa6082-9844-4e9a-9c47-ea7b94ac0826"
    },
    {
      "cell_type": "code",
      "source": "class ListNode:\n    def __init__(self, val=0, next=None):\n        self.val = val\n        self.next = next\n\ndef addOne(head):\n\n    prev = None\n    current = head\n    while current:\n        next_node = current.next\n        current.next = prev\n        prev = current\n        current = next_node\n    head = prev\n\n    carry = 1\n    current = head\n    while current:\n        sum = current.val + carry\n        if sum < 10:\n            current.val = sum\n            carry = 0\n        else:\n            current.val = sum % 10\n            carry = 1\n        prev = current\n        current = current.next\n\n    if carry:\n        new_node = ListNode(1)\n        prev.next = new_node\n\n    prev = None\n    current = head\n    while current:\n        next_node = current.next\n        current.next = prev\n        prev = current\n        current = next_node\n    head = prev\n\n    return head\n\nhead = ListNode(4)\nnode1 = ListNode(5)\nnode2 = ListNode(6)\nhead.next = node1\nnode1.next = node2\n\nnew_head = addOne(head)\n\ncurrent = new_head\nwhile current:\n    print(current.val, end=\"\")\n    current = current.next\n",
      "metadata": {
        "trusted": true
      },
      "execution_count": 5,
      "outputs": [
        {
          "name": "stdout",
          "text": "457",
          "output_type": "stream"
        }
      ],
      "id": "07f66fd7-50dc-476a-9ef2-1d2430b9935d"
    },
    {
      "cell_type": "markdown",
      "source": "Question 3\n\nGiven a Linked List of size N, where every node represents a sub-linked-list and contains two pointers:(i) a \nnext pointer to the next node,(ii) a bottom pointer to a linked list where the node is head.Each of the sub-linked-list is in sorted order.Flatten the Link List such that all the nodes appear in a single level while maintaining the sorted order. Note: The flattened list will be printed using the bottom pointer instead of next pointer.\n",
      "metadata": {},
      "id": "99bb2e30-ac66-46df-a6c4-db93e0c702cd"
    },
    {
      "cell_type": "code",
      "source": "class Node:\n    def __init__(self, data):\n        self.data = data\n        self.next = None\n        self.bottom = None\n\ndef merge(a, b):\n    if not a:\n        return b\n    if not b:\n        return a\n\n    result = None\n\n    if a.data <= b.data:\n        result = a\n        result.bottom = merge(a.bottom, b)\n    else:\n        result = b\n        result.bottom = merge(a, b.bottom)\n\n    return result\n\ndef flatten(head):\n    if not head or not head.next:\n        return head\n\n    head.next = flatten(head.next)\n\n   \n    head = merge(head, head.next)\n\n    return head\n\ndef printList(head):\n    current = head\n    while current:\n        print(current.data, end=\"->\")\n        current = current.bottom\n    print(\"None\")\n\n\nhead = Node(5)\nhead.next = Node(10)\nhead.next.next = Node(19)\nhead.next.next.next = Node(28)\n\nhead.bottom = Node(7)\nhead.bottom.bottom = Node(8)\nhead.bottom.bottom.bottom = Node(30)\n\nhead.next.bottom = Node(20)\n\nhead.next.next.bottom = Node(22)\nhead.next.next.next.bottom = Node(35)\n\nhead.bottom.next = Node(50)\n\nhead.next.next.bottom.next = Node(40)\nhead.next.next.next.bottom.next = Node(45)\n\nhead = flatten(head)\nprintList(head)\n",
      "metadata": {
        "trusted": true
      },
      "execution_count": 9,
      "outputs": [
        {
          "name": "stdout",
          "text": "5->7->8->10->19->20->22->28->30->35->None\n",
          "output_type": "stream"
        }
      ],
      "id": "3d531fd7-5742-4987-8855-ccdb628d3aad"
    },
    {
      "cell_type": "markdown",
      "source": "Question 4\n\nYou are given a special linked list with N nodes where each node has a next pointer pointing to its next node. You are also given M random pointers, where you will be given M number of pairs denoting two nodes a and b  i.e. a->arb = b (arb is pointer to random node).\n\nConstruct a copy of the given list. The copy should consist of exactly N new nodes, where each new node has its value set to the value of its corresponding original node. Both the next and random pointer of the new nodes should point to new nodes in the copied list such that the pointers in the original list and copied list represent the same list state. None of the pointers in the new list should point to nodes in the original list.\n\nFor example, if there are two nodes X and Y in the original list, where X.arb--> Y , then for the corresponding two nodes x and y in the copied list, x.arb --> y.\n\nReturn the head of the copied linked list.",
      "metadata": {},
      "id": "1900c01d-4d68-483e-8637-4446aecb22aa"
    },
    {
      "cell_type": "code",
      "source": "class Node:\n    def __init__(self, data):\n        self.data = data\n        self.next = None\n        self.random = None\n\ndef copyRandomList(head):\n    if not head:\n        return None\n\n    mapping = {}\n\n    current = head\n    while current:\n        mapping[current] = Node(current.data)\n        current = current.next\n\n    current = head\n    while current:\n        copied_node = mapping[current]\n        copied_node.next = mapping.get(current.next)\n        copied_node.random = mapping.get(current.random)\n        current = current.next\n\n    return mapping[head]\n\nhead = Node(1)\nhead.next = Node(2)\nhead.next.next = Node(3)\nhead.next.next.next = Node(4)\n\nhead.random = head.next.next\nhead.next.random = head.next.next.next\n\ncopied_head = copyRandomList(head)\n\ncurrent = copied_head\nwhile current:\n    print(\"Node:\", current.data)\n    print(\"Next:\", current.next.data if current.next else None)\n    print(\"Random:\", current.random.data if current.random else None)\n    print()\n    current = current.next\n",
      "metadata": {
        "trusted": true
      },
      "execution_count": 11,
      "outputs": [
        {
          "name": "stdout",
          "text": "Node: 1\nNext: 2\nRandom: 3\n\nNode: 2\nNext: 3\nRandom: 4\n\nNode: 3\nNext: 4\nRandom: None\n\nNode: 4\nNext: None\nRandom: None\n\n",
          "output_type": "stream"
        }
      ],
      "id": "2c21490d-42b6-41e1-a77f-5586c7211f42"
    },
    {
      "cell_type": "markdown",
      "source": "Question 5\n\nGiven the `head` of a singly linked list, group all the nodes with odd indices together followed by the nodes with even indices, and return the reordered list.\n\nThe first node is considered odd, and the second node is even, and so on.\n\nNote that the relative order inside both the even and odd groups should remain as it was in the input.\n\nYou must solve the problem in `O(1)` extra space complexity and `O(n)` time complexity.\n",
      "metadata": {},
      "id": "a6441eb7-06d3-4b55-bccc-c13545fe0c03"
    },
    {
      "cell_type": "code",
      "source": "\nclass ListNode:\n    def __init__(self, val=0, next=None):\n        self.val = val\n        self.next = next\n\ndef createLinkedList(values):\n    head = None\n    prev = None\n    for val in values:\n        node = ListNode(val)\n        if not head:\n            head = node\n        if prev:\n            prev.next = node\n        prev = node\n    return head\n\ndef printLinkedList(head):\n    curr = head\n    while curr:\n        print(curr.val, end=\" \")\n        curr = curr.next\n    print()\n\ndef oddEvenList(head):\n    if not head or not head.next:\n        return head\n\n    odd_head = head\n    even_head = head.next\n    odd_tail = head\n    even_tail = head.next\n\n    while even_tail and even_tail.next:\n        odd_tail.next = even_tail.next\n        odd_tail = odd_tail.next\n        even_tail.next = odd_tail.next\n        even_tail = even_tail.next\n\n    odd_tail.next = even_head\n\n    return odd_head\n\nif __name__ == \"__main__\":\n  \n    head = createLinkedList([1, 2, 3, 4, 5])\n\n \n    reordered_head = oddEvenList(head)\n\n    printLinkedList(reordered_head)\n",
      "metadata": {
        "trusted": true
      },
      "execution_count": 14,
      "outputs": [
        {
          "name": "stdout",
          "text": "1 3 5 2 4 \n",
          "output_type": "stream"
        }
      ],
      "id": "12b5b04a-3c3b-43bf-ba96-e204c81b4e80"
    },
    {
      "cell_type": "markdown",
      "source": "Question 6\n\nGiven a singly linked list of size N. The task is to left-shift the linked list by k nodes, where k is a given positive integer smaller than or equal to length of the linked list.\n",
      "metadata": {},
      "id": "aa72db50-fcdb-44e7-9a04-6ef0d800df54"
    },
    {
      "cell_type": "code",
      "source": "\nclass ListNode:\n    def __init__(self, val=0, next=None):\n        self.val = val\n        self.next = next\n\ndef createLinkedList(values):\n    head = None\n    prev = None\n    for val in values:\n        node = ListNode(val)\n        if not head:\n            head = node\n        if prev:\n            prev.next = node\n        prev = node\n    return head\n\ndef printLinkedList(head):\n    curr = head\n    while curr:\n        print(curr.val, end=\" \")\n        curr = curr.next\n    print()\n\ndef leftShiftLinkedList(head, k):\n    if not head or not head.next or k <= 0:\n        return head\n\n    length = 0\n    curr = head\n    tail = None\n\n    while curr.next:\n        length += 1\n        curr = curr.next\n\n    length += 1\n    tail = curr\n\n    k = k % length\n\n    if k == 0:\n        return head\n\n    new_tail = head\n    for _ in range(length - k - 1):\n        new_tail = new_tail.next\n\n    new_head = new_tail.next\n    new_tail.next = None\n    tail.next = head\n\n    return new_head\n\nif __name__ == \"__main__\":\n  \n    head = createLinkedList([2, 4, 7, 8, 9])\n\n    k = 3\n\n    shifted_head = leftShiftLinkedList(head, k)\n\n    printLinkedList(shifted_head)\n",
      "metadata": {
        "trusted": true
      },
      "execution_count": 16,
      "outputs": [
        {
          "name": "stdout",
          "text": "7 8 9 2 4 \n",
          "output_type": "stream"
        }
      ],
      "id": "407a788c-76cc-4e4b-9f28-0005e6def1e0"
    },
    {
      "cell_type": "code",
      "source": "",
      "metadata": {},
      "execution_count": null,
      "outputs": [],
      "id": "07741ed9-8503-4a6b-a9b6-267d2f46c80c"
    }
  ]
}