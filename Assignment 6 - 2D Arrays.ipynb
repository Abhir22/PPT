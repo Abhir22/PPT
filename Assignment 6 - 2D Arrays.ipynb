{
  "metadata": {
    "kernelspec": {
      "name": "python",
      "display_name": "Python (Pyodide)",
      "language": "python"
    },
    "language_info": {
      "codemirror_mode": {
        "name": "python",
        "version": 3
      },
      "file_extension": ".py",
      "mimetype": "text/x-python",
      "name": "python",
      "nbconvert_exporter": "python",
      "pygments_lexer": "ipython3",
      "version": "3.8"
    }
  },
  "nbformat_minor": 5,
  "nbformat": 4,
  "cells": [
    {
      "cell_type": "markdown",
      "source": "Question 1\n\nA permutation perm of n + 1 integers of all the integers in the range [0, n] can be represented as a string s of length n where:\n\n- s[i] == 'I' if perm[i] < perm[i + 1], and\n- s[i] == 'D' if perm[i] > perm[i + 1].\n\nGiven a string s, reconstruct the permutation perm and return it. If there are multiple valid permutations perm, return any of them.\n\n",
      "metadata": {},
      "id": "d09de3f8-bb8c-436a-b962-5fc65d2750d7"
    },
    {
      "cell_type": "code",
      "source": "def reconstructPermutation(s):\n    n = len(s)\n    perm = []\n    low, high = 0, n\n\n    for c in s:\n        if c == 'I':\n            perm.append(low)\n            low += 1\n        elif c == 'D':\n            perm.append(high)\n            high -= 1\n\n    perm.append(low)\n\n    return perm\ns = \"IDID\"\nresult = reconstructPermutation(s)\nprint(result)\n\n",
      "metadata": {
        "trusted": true
      },
      "execution_count": 1,
      "outputs": [
        {
          "name": "stdout",
          "text": "[0, 4, 1, 3, 2]\n",
          "output_type": "stream"
        }
      ],
      "id": "7a5adc8a-f37c-4c71-a76b-082fc5ef8b35"
    },
    {
      "cell_type": "markdown",
      "source": "Question 2\n\nYou are given an m x n integer matrix matrix with the following two properties:\n\n- Each row is sorted in non-decreasing order.\n- The first integer of each row is greater than the last integer of the previous row.\n\nGiven an integer target, return true if target is in matrix or false otherwise.\n\nYou must write a solution in O(log(m * n)) time complexity.",
      "metadata": {},
      "id": "bf794a41-dacd-478d-bc32-c3b3c84238bf"
    },
    {
      "cell_type": "code",
      "source": "def searchMatrix(matrix, target):\n    rows = len(matrix)\n    cols = len(matrix[0]) if rows > 0 else 0\n\n    left = 0\n    right = rows * cols - 1\n\n    while left <= right:\n        mid = (left + right) // 2\n        row = mid // cols\n        col = mid % cols\n\n        if matrix[row][col] == target:\n            return True\n        elif matrix[row][col] < target:\n            left = mid + 1\n        else:\n            right = mid - 1\n\n    return False\nmatrix = [[1, 3, 5, 7], [10, 11, 16, 20], [23, 30, 34, 60]]\ntarget = 3\nresult = searchMatrix(matrix, target)\nprint(result)\n",
      "metadata": {
        "trusted": true
      },
      "execution_count": 3,
      "outputs": [
        {
          "name": "stdout",
          "text": "True\n",
          "output_type": "stream"
        }
      ],
      "id": "2ee42cf2-31e7-422d-94f8-a1efc361ef43"
    },
    {
      "cell_type": "markdown",
      "source": "Question 3\nGiven an array of integers arr, return true if and only if it is a valid mountain array.\n\nRecall that arr is a mountain array if and only if:\n\n- arr.length >= 3\n- There exists some i with 0 < i < arr.length - 1 such that:\n    - arr[0] < arr[1] < ... < arr[i - 1] < arr[i]\n    - arr[i] > arr[i + 1] > ... > arr[arr.length - 1]",
      "metadata": {},
      "id": "4088c2c8-6979-4e1e-b844-f3f7868d029b"
    },
    {
      "cell_type": "code",
      "source": "def validMountainArray(arr):\n    if len(arr) < 3:\n        return False\n\n    left = 0\n    right = len(arr) - 1\n\n    while left + 1 < len(arr) and arr[left] < arr[left + 1]:\n        left += 1\n\n    while right - 1 >= left and arr[right] < arr[right - 1]:\n        right -= 1\n\n    return left == right == len(arr) - 1\narr = [2, 1]\nresult = validMountainArray(arr)\nprint(result)\n",
      "metadata": {
        "trusted": true
      },
      "execution_count": 4,
      "outputs": [
        {
          "name": "stdout",
          "text": "False\n",
          "output_type": "stream"
        }
      ],
      "id": "d7eca79c-0df7-4eaf-86be-0f735138e825"
    },
    {
      "cell_type": "markdown",
      "source": "Question 4\n\nGiven a binary array nums, return the maximum length of a contiguous subarray with an equal number of 0 and 1.",
      "metadata": {},
      "id": "9c439566-51be-48ea-95e2-20e72393aff5"
    },
    {
      "cell_type": "code",
      "source": "def findMaxLength(nums):\n    max_len = 0\n    count = 0\n    count_dict = {0: -1}\n\n    for i in range(len(nums)):\n        count += 1 if nums[i] == 1 else -1\n\n        if count in count_dict:\n            max_len = max(max_len, i - count_dict[count])\n        else:\n            count_dict[count] = i\n\n    return max_len\nnums = [0, 1]\nresult = findMaxLength(nums)\nprint(result)\n\n",
      "metadata": {
        "trusted": true
      },
      "execution_count": 5,
      "outputs": [
        {
          "name": "stdout",
          "text": "2\n",
          "output_type": "stream"
        }
      ],
      "id": "d1ae95cc-0cde-4f15-95cc-b973dd1d2749"
    },
    {
      "cell_type": "markdown",
      "source": "Question 5\n\nThe product sum of two equal-length arrays a and b is equal to the sum of a[i] * b[i] for all 0 <= i < a.length (0-indexed).\n\n- For example, if a = [1,2,3,4] and b = [5,2,3,1], the product sum would be 1*5 + 2*2 + 3*3 + 4*1 = 22.\n\nGiven two arrays nums1 and nums2 of length n, return the minimum product sum if you are allowed to rearrange the order of the elements in nums1.\n",
      "metadata": {},
      "id": "1b064439-3986-49f9-a306-357534c25c01"
    },
    {
      "cell_type": "code",
      "source": "def minProductSum(nums1, nums2):\n    nums1.sort()\n    nums2.sort()\n\n    left, right = 0, len(nums1) - 1\n    min_product_sum = 0\n\n    for i in range(len(nums2) - 1, -1, -1):\n        product = nums2[i] * nums1[left]\n        min_product_sum += product\n        left += 1\n\n    return min_product_sum\nnums1 = [5, 3, 4, 2]\nnums2 = [4, 2, 2, 5]\nresult = minProductSum(nums1, nums2)\nprint(result)",
      "metadata": {
        "trusted": true
      },
      "execution_count": 6,
      "outputs": [
        {
          "name": "stdout",
          "text": "40\n",
          "output_type": "stream"
        }
      ],
      "id": "fc7b5419-d7a9-4943-938b-c329ba7321d2"
    },
    {
      "cell_type": "markdown",
      "source": "Question 6\n\nAn integer array original is transformed into a doubled array changed by appending twice the value of every element in original, and then randomly shuffling the resulting array.\n\nGiven an array changed, return original if changed is a doubled array. If changed is not a doubled array, return an empty array. The elements in original may be returned in any order.",
      "metadata": {},
      "id": "72b68fe0-a114-4b5e-bec7-6948deb54b16"
    },
    {
      "cell_type": "code",
      "source": "from collections import Counter\n\ndef findOriginalArray(changed):\n    count = Counter(changed)\n    original = []\n\n    for num in sorted(changed):\n        if count[num] == 0:\n            continue\n        \n        if count[num * 2] == 0:\n            return []\n\n        original.append(num)\n        count[num] -= 1\n        count[num * 2] -= 1\n\n    return original\nchanged = [1, 3, 4, 2, 6, 8]\nresult = findOriginalArray(changed)\nprint(result)\n\n",
      "metadata": {
        "trusted": true
      },
      "execution_count": 13,
      "outputs": [
        {
          "name": "stdout",
          "text": "[1, 3, 4]\n",
          "output_type": "stream"
        }
      ],
      "id": "4eccf1d8-ae71-44c0-8758-0c264922462e"
    },
    {
      "cell_type": "markdown",
      "source": "Question 7\n\nGiven a positive integer n, generate an n x n matrix filled with elements from 1 to n2 in spiral order.",
      "metadata": {},
      "id": "37a5c975-3438-4ab0-95da-eb6d41721e87"
    },
    {
      "cell_type": "code",
      "source": "def generateMatrix(n):\n    matrix = [[0] * n for _ in range(n)]\n    num = 1\n    row_start, row_end = 0, n - 1\n    col_start, col_end = 0, n - 1\n\n    while num <= n * n:\n        for i in range(col_start, col_end + 1):\n            matrix[row_start][i] = num\n            num += 1\n        row_start += 1\n        for i in range(row_start, row_end + 1):\n            matrix[i][col_end] = num\n            num += 1\n        col_end -= 1\n        for i in range(col_end, col_start - 1, -1):\n            matrix[row_end][i] = num\n            num += 1\n        row_end -= 1\n        for i in range(row_end, row_start - 1, -1):\n            matrix[i][col_start] = num\n            num += 1\n        col_start += 1\n\n    return matrix\nn = 3\nresult = generateMatrix(n)\nprint(result)\n\n",
      "metadata": {
        "trusted": true
      },
      "execution_count": 16,
      "outputs": [
        {
          "name": "stdout",
          "text": "[[1, 2, 3], [8, 9, 4], [7, 6, 5]]\n",
          "output_type": "stream"
        }
      ],
      "id": "986870e1-dc6f-4af1-abad-65fc5a6dc6c5"
    },
    {
      "cell_type": "markdown",
      "source": "Question 8\n\nGiven two [sparse matrices] mat1 of size m x k and mat2 of size k x n, return the result of mat1 x mat2. You may assume that multiplication is always possible.\n",
      "metadata": {},
      "id": "b492859a-ac53-475c-a674-279a504a17a5"
    },
    {
      "cell_type": "code",
      "source": "def multiply(mat1, mat2):\n    m, k, n = len(mat1), len(mat1[0]), len(mat2[0])\n    result = [[0] * n for _ in range(m)]\n\n    for i in range(m):\n        for j in range(k):\n            if mat1[i][j] != 0:\n                for l in range(n):\n                    result[i][l] += mat1[i][j] * mat2[j][l]\n\n    return result\nmat1 = [[1, 0, 0], [-1, 0, 3]]\nmat2 = [[7, 0, 0], [0, 0, 0], [0, 0, 1]]\nresult = multiply(mat1, mat2)\nprint(result)\n\n",
      "metadata": {
        "trusted": true
      },
      "execution_count": 19,
      "outputs": [
        {
          "name": "stdout",
          "text": "[[7, 0, 0], [-7, 0, 3]]\n",
          "output_type": "stream"
        }
      ],
      "id": "0b51c154-e8d5-426e-92a6-f3c0f7c25268"
    },
    {
      "cell_type": "code",
      "source": "",
      "metadata": {},
      "execution_count": null,
      "outputs": [],
      "id": "713f1e14-a1f3-472c-a471-b18c16bf5a31"
    },
    {
      "cell_type": "code",
      "source": "",
      "metadata": {},
      "execution_count": null,
      "outputs": [],
      "id": "9ffc20f4-f240-43a9-bd09-79366d3e12d9"
    }
  ]
}