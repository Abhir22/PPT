{
  "metadata": {
    "language_info": {
      "codemirror_mode": {
        "name": "python",
        "version": 3
      },
      "file_extension": ".py",
      "mimetype": "text/x-python",
      "name": "python",
      "nbconvert_exporter": "python",
      "pygments_lexer": "ipython3",
      "version": "3.8"
    },
    "kernelspec": {
      "name": "python",
      "display_name": "Python (Pyodide)",
      "language": "python"
    }
  },
  "nbformat_minor": 4,
  "nbformat": 4,
  "cells": [
    {
      "cell_type": "markdown",
      "source": "Given an integer array nums of length n and an integer target, find three integers\nin nums such that the sum is closest to the target.\nReturn the sum of the three integers.\n\nYou may assume that each input would have exactly one solution.",
      "metadata": {}
    },
    {
      "cell_type": "code",
      "source": "def threeSumClosest(nums, target):\n    closest_sum = float('inf')\n    \n    for i in range(len(nums)-2):\n        for j in range(i+1, len(nums)-1):\n            for k in range(j+1, len(nums)):\n                current_sum = nums[i] + nums[j] + nums[k]\n                \n                if abs(current_sum - target) < abs(closest_sum - target):\n                    closest_sum = current_sum\n    \n    return closest_sum\nnums = [-1, 2, 1, -4]\ntarget = 1\nprint(threeSumClosest(nums, target))\n",
      "metadata": {
        "trusted": true
      },
      "execution_count": 1,
      "outputs": [
        {
          "name": "stdout",
          "text": "2\n",
          "output_type": "stream"
        }
      ]
    },
    {
      "cell_type": "markdown",
      "source": "Question 2\nGiven an array nums of n integers, return an array of all the unique quadruplets\n[nums[a], nums[b], nums[c], nums[d]] such that:\n           ● 0 <= a, b, c, d < n\n           ● a, b, c, and d are distinct.\n           ● nums[a] + nums[b] + nums[c] + nums[d] == target\n\nYou may return the answer in any order.",
      "metadata": {}
    },
    {
      "cell_type": "code",
      "source": "def fourSum(nums, target):\n    nums.sort()\n    n = len(nums)\n    result = []\n    \n    for i in range(n-3):\n        if i > 0 and nums[i] == nums[i-1]:\n            continue\n        \n        for j in range(i+1, n-2):\n            if j > i+1 and nums[j] == nums[j-1]:\n                continue\n            \n            left = j + 1\n            right = n - 1\n            \n            while left < right:\n                current_sum = nums[i] + nums[j] + nums[left] + nums[right]\n                \n                if current_sum == target:\n                    result.append([nums[i], nums[j], nums[left], nums[right]])\n                    left += 1\n                    right -= 1\n                    while left < right and nums[left] == nums[left-1]:\n                        left += 1\n                    while left < right and nums[right] == nums[right+1]:\n                        right -= 1\n                elif current_sum < target:\n                    left += 1\n                else:\n                    right -= 1\n    \n    return result\nnums = [1, 0, -1, 0, -2, 2]\ntarget = 0\nprint(fourSum(nums, target))\n",
      "metadata": {
        "trusted": true
      },
      "execution_count": 2,
      "outputs": [
        {
          "name": "stdout",
          "text": "[[-2, -1, 1, 2], [-2, 0, 0, 2], [-1, 0, 0, 1]]\n",
          "output_type": "stream"
        }
      ]
    },
    {
      "cell_type": "markdown",
      "source": "Question 3\nA permutation of an array of integers is an arrangement of its members into a\nsequence or linear order.\n\nFor example, for arr = [1,2,3], the following are all the permutations of arr:\n[1,2,3], [1,3,2], [2, 1, 3], [2, 3, 1], [3,1,2], [3,2,1].\n\nThe next permutation of an array of integers is the next lexicographically greater\npermutation of its integer. More formally, if all the permutations of the array are\nsorted in one container according to their lexicographical order, then the next\npermutation of that array is the permutation that follows it in the sorted container.\n\nIf such an arrangement is not possible, the array must be rearranged as the\nlowest possible order (i.e., sorted in ascending order).\n\n● For example, the next permutation of arr = [1,2,3] is [1,3,2].\n● Similarly, the next permutation of arr = [2,3,1] is [3,1,2].\n● While the next permutation of arr = [3,2,1] is [1,2,3] because [3,2,1] does not\nhave a lexicographical larger rearrangement.\n\nGiven an array of integers nums, find the next permutation of nums.\nThe replacement must be in place and use only constant extra memory.\n\n",
      "metadata": {}
    },
    {
      "cell_type": "code",
      "source": "def nextPermutation(nums):\n    n = len(nums)\n    i = n - 1\n    while i > 0 and nums[i] <= nums[i-1]:\n        i -= 1\n\n    if i == 0:\n        nums.reverse()\n    else:\n        j = n - 1\n\n        while nums[j] <= nums[i-1]:\n            j -= 1\n        nums[j], nums[i-1] = nums[i-1], nums[j]\n        nums[i:] = reversed(nums[i:])\n\n    return nums\n\nnums = [1, 2, 3]\nnext_permutation = nextPermutation(nums)\nprint(next_permutation) \n",
      "metadata": {
        "trusted": true
      },
      "execution_count": 3,
      "outputs": [
        {
          "name": "stdout",
          "text": "[1, 3, 2]\n",
          "output_type": "stream"
        }
      ]
    },
    {
      "cell_type": "markdown",
      "source": "Question 4\nGiven a sorted array of distinct integers and a target value, return the index if the\ntarget is found. If not, return the index where it would be if it were inserted in\norder.\n\nYou must write an algorithm with O(log n) runtime complexity.",
      "metadata": {}
    },
    {
      "cell_type": "code",
      "source": "def searchInsert(nums, target):\n    left, right = 0, len(nums) - 1\n    while left <= right:\n        mid = (left + right) // 2\n        if nums[mid] == target:\n            return mid\n        elif nums[mid] < target:\n            left = mid + 1\n        else:\n            right = mid - 1\n    return left\n\nnums = [1, 3, 5, 6]\ntarget = 5\nindex = searchInsert(nums, target)\nprint(index)",
      "metadata": {
        "trusted": true
      },
      "execution_count": 4,
      "outputs": [
        {
          "name": "stdout",
          "text": "2\n",
          "output_type": "stream"
        }
      ]
    },
    {
      "cell_type": "markdown",
      "source": "Question 5\nYou are given a large integer represented as an integer array digits, where each\ndigits[i] is the ith digit of the integer. The digits are ordered from most significant\nto least significant in left-to-right order. The large integer does not contain any\nleading 0's.\n\nIncrement the large integer by one and return the resulting array of digits.",
      "metadata": {}
    },
    {
      "cell_type": "code",
      "source": "def plusOne(digits):\n    n = len(digits)\n    carry = 1  \n\n    for i in range(n - 1, -1, -1):\n        digits[i] += carry\n        carry = digits[i] // 10\n        digits[i] %= 10\n\n    \n    if carry:\n        digits.insert(0, 1)\n\n    return digits\ndigits = [1, 2, 3]\nresult = plusOne(digits)\nprint(result)\n",
      "metadata": {
        "trusted": true
      },
      "execution_count": 5,
      "outputs": [
        {
          "name": "stdout",
          "text": "[1, 2, 4]\n",
          "output_type": "stream"
        }
      ]
    },
    {
      "cell_type": "markdown",
      "source": "Question 6\nGiven a non-empty array of integers nums, every element appears twice except\nfor one. Find that single one.\n\nYou must implement a solution with a linear runtime complexity and use only\nconstant extra space.",
      "metadata": {}
    },
    {
      "cell_type": "code",
      "source": "def singleNumber(nums):\n    num_set = set()\n    for num in nums:\n        if num in num_set:\n            num_set.remove(num)\n        else:\n            num_set.add(num)\n    return num_set.pop()\n\nnums = [2, 2, 1]\nresult = singleNumber(nums)\nprint(result) \n",
      "metadata": {
        "trusted": true
      },
      "execution_count": 6,
      "outputs": [
        {
          "name": "stdout",
          "text": "1\n",
          "output_type": "stream"
        }
      ]
    },
    {
      "cell_type": "markdown",
      "source": "Question 7\nYou are given an inclusive range [lower, upper] and a sorted unique integer array\nnums, where all elements are within the inclusive range.\n\nA number x is considered missing if x is in the range [lower, upper] and x is not in\nnums.\n\nReturn the shortest sorted list of ranges that exactly covers all the missing\nnumbers. That is, no element of nums is included in any of the ranges, and each\nmissing number is covered by one of the ranges.",
      "metadata": {}
    },
    {
      "cell_type": "code",
      "source": "def findMissingRanges(nums, lower, upper):\n    result = []\n    prev = lower - 1\n\n    for num in nums:\n        if num > prev + 1:\n            result.append(getRange(prev + 1, num - 1))\n        prev = num\n    if upper > prev:\n        result.append(getRange(prev + 1, upper))\n\n    return result\n\ndef getRange(start, end):\n    if start == end:\n        return str(start)\n    else:\n        return str(start) + \"->\" + str(end)\n\nnums = [0, 1, 3, 50, 75]\nlower = 0\nupper = 99\nresult = findMissingRanges(nums, lower, upper)\nprint(result) ",
      "metadata": {
        "trusted": true
      },
      "execution_count": 7,
      "outputs": [
        {
          "name": "stdout",
          "text": "['2', '4->49', '51->74', '76->99']\n",
          "output_type": "stream"
        }
      ]
    },
    {
      "cell_type": "markdown",
      "source": "Question 8\nGiven an array of meeting time intervals where intervals[i] = [starti, endi],\ndetermine if a person could attend all meetings.",
      "metadata": {}
    },
    {
      "cell_type": "code",
      "source": "def canAttendMeetings(intervals):\n    timeSet = set()\n\n    for interval in intervals:\n        start, end = interval[0], interval[1]\n        for time in range(start, end + 1):\n            if time in timeSet:\n                return False \n            timeSet.add(time)\n\n    return True \nintervals = [[0, 30], [5, 10], [15, 20]]\nresult = canAttendMeetings(intervals)\nprint(result)",
      "metadata": {
        "trusted": true
      },
      "execution_count": 8,
      "outputs": [
        {
          "name": "stdout",
          "text": "False\n",
          "output_type": "stream"
        }
      ]
    },
    {
      "cell_type": "code",
      "source": "",
      "metadata": {},
      "execution_count": null,
      "outputs": []
    }
  ]
}