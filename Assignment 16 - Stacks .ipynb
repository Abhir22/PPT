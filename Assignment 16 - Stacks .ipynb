{
  "metadata": {
    "kernelspec": {
      "name": "python",
      "display_name": "Python (Pyodide)",
      "language": "python"
    },
    "language_info": {
      "codemirror_mode": {
        "name": "python",
        "version": 3
      },
      "file_extension": ".py",
      "mimetype": "text/x-python",
      "name": "python",
      "nbconvert_exporter": "python",
      "pygments_lexer": "ipython3",
      "version": "3.8"
    }
  },
  "nbformat_minor": 5,
  "nbformat": 4,
  "cells": [
    {
      "cell_type": "markdown",
      "source": "Question 1\nGiven an array, for each element find the value of the nearest element to the right which is having a frequency greater than that of the current element. If there does not exist an answer for a position, then make the value ‘-1’.\n",
      "metadata": {},
      "id": "20ffcc0c-7dd4-4dcb-aa46-8bbdaa017e65"
    },
    {
      "cell_type": "code",
      "source": "def findNextGreaterFrequency(arr):\n    n = len(arr);\n    frequency = {}\n    result = [-1] * n\n    stack = []\n\n    for i in range(n):\n        if arr[i] in frequency:\n            frequency[arr[i]] += 1\n        else:\n            frequency[arr[i]] = 1\n\n    for i in range(n - 1, -1, -1):\n        while stack and frequency[arr[i]] >= frequency[arr[stack[-1]]]:\n            stack.pop()\n\n        if stack:\n            result[i] = arr[stack[-1]]\n\n        stack.append(i)\n\n    return result\narr = [1, 1, 2, 3, 4, 2, 1]\nprint(findNextGreaterFrequency(arr))  ",
      "metadata": {
        "trusted": true
      },
      "execution_count": 6,
      "outputs": [
        {
          "name": "stdout",
          "text": "[-1, -1, 1, 2, 2, 1, -1]\n",
          "output_type": "stream"
        }
      ],
      "id": "6bf42f45-c2d2-4899-b902-2c019c0abb80"
    },
    {
      "cell_type": "markdown",
      "source": "Question 2\n\nGiven a stack of integers, sort it in ascending order using another temporary stack",
      "metadata": {},
      "id": "4f816b2f-be3f-437b-ade2-8c1e2883216b"
    },
    {
      "cell_type": "code",
      "source": "def sortStack(stack):\n    tempStack = []\n\n    while stack:\n        temp = stack.pop()\n\n        while tempStack and tempStack[-1] > temp:\n            stack.append(tempStack.pop())\n\n        tempStack.append(temp)\n\n    while tempStack:\n        stack.append(tempStack.pop())\n\n    return stack\nstack1 = [34, 3, 31, 98, 92, 23]\nprint(sortStack(stack1)) \n\nstack2 = [3, 5, 1, 4, 2, 8]\nprint(sortStack(stack2)) \n",
      "metadata": {
        "trusted": true
      },
      "execution_count": 8,
      "outputs": [
        {
          "name": "stdout",
          "text": "[98, 92, 34, 31, 23, 3]\n[8, 5, 4, 3, 2, 1]\n",
          "output_type": "stream"
        }
      ],
      "id": "4f879caf-fe37-42b6-a7c0-25133d0b59e8"
    },
    {
      "cell_type": "markdown",
      "source": "Question 3\n\nGiven a stack with push(), pop(), and empty() operations, The task is to delete the middle element of it without using any additional data structure.\n",
      "metadata": {},
      "id": "7f91e09f-9805-4af5-aac9-c99ef87d89ed"
    },
    {
      "cell_type": "code",
      "source": "def deleteMiddle(stack):\n    size = len(stack)\n    count = 0\n    middle = size // 2\n\n    tempStack = []\n\n    while stack:\n        count += 1\n        temp = stack.pop()\n\n        if count != middle:\n            tempStack.append(temp)\n\n    while tempStack:\n        stack.append(tempStack.pop())\n\n    return stack\nstack1 = [1, 2, 3, 4, 5]\nprint(deleteMiddle(stack1)) \nstack2 = [1, 2, 3, 4, 5, 6]\nprint(deleteMiddle(stack2))  \n",
      "metadata": {
        "trusted": true
      },
      "execution_count": 10,
      "outputs": [
        {
          "name": "stdout",
          "text": "[1, 2, 3, 5]\n[1, 2, 3, 5, 6]\n",
          "output_type": "stream"
        }
      ],
      "id": "1189424f-6b1f-4608-a07d-8e5e8507e39e"
    },
    {
      "cell_type": "markdown",
      "source": "Question 4\n\nGiven a Queue consisting of first n natural numbers (in random order). The task is to check whether the given Queue elements can be arranged in increasing order in another Queue using a stack. The operation allowed are:\n\n1. Push and pop elements from the stack\n2. Pop (Or Dequeue) from the given Queue.\n3. Push (Or Enqueue) in the another Queue.\n\n",
      "metadata": {},
      "id": "32f9f5b5-c98b-41aa-b097-708f95c078ae"
    },
    {
      "cell_type": "code",
      "source": "from queue import Queue\n\ndef checkIncreasingOrder(queue):\n    stack = []\n    secondQueue = Queue()\n    expected = 1\n\n    while not queue.empty():\n        front = queue.queue[0]\n\n        if front == expected:\n            secondQueue.put(front)\n            queue.get()\n            expected += 1\n        else:\n            if stack and stack[-1] == expected:\n                secondQueue.put(stack.pop())\n                expected += 1\n            else:\n                stack.append(queue.get())\n\n    while stack:\n        if stack[-1] == expected:\n            secondQueue.put(stack.pop())\n            expected += 1\n        else:\n            break\n\n    return secondQueue.empty()\nqueue = Queue()\nqueue.put(5)\nqueue.put(1)\nqueue.put(2)\nqueue.put(3)\nqueue.put(4)\n\nprint(checkIncreasingOrder(queue))  \n",
      "metadata": {
        "trusted": true
      },
      "execution_count": 13,
      "outputs": [
        {
          "name": "stdout",
          "text": "False\n",
          "output_type": "stream"
        }
      ],
      "id": "8241e247-5aba-4590-865b-45c7917b8c8d"
    },
    {
      "cell_type": "markdown",
      "source": "Question 5\n\nGiven a number , write a program to reverse this number using stack.",
      "metadata": {},
      "id": "eb32957c-0195-426d-8cd2-033b8d20a4f9"
    },
    {
      "cell_type": "code",
      "source": "def reverseNumber(number):\n    stack = []\n    numberStr = str(number)\n\n    for digit in numberStr:\n        stack.append(digit)\n\n    reversedNumber = \"\"\n    while stack:\n        reversedNumber += stack.pop()\n\n    return int(reversedNumber)\nprint(reverseNumber(365))   \nprint(reverseNumber(6899))  \n",
      "metadata": {
        "trusted": true
      },
      "execution_count": 15,
      "outputs": [
        {
          "name": "stdout",
          "text": "563\n9986\n",
          "output_type": "stream"
        }
      ],
      "id": "ac1430e9-bddf-4b24-b369-0418ba983268"
    },
    {
      "cell_type": "markdown",
      "source": "Question 6\nGiven an integer k and a queue of integers, The task is to reverse the order of the first k elements of the queue, leaving the other elements in the same relative order.\n",
      "metadata": {},
      "id": "be0ca0cb-2587-406f-b796-0e12722c7aa5"
    },
    {
      "cell_type": "code",
      "source": "def reverseKElements(queue, k):\n    if k > queue.size():\n        return \"Invalid k\"\n\n    stack = []\n    tempQueue = []\n\n    for _ in range(k):\n        stack.append(queue.dequeue())\n\n    while not queue.empty():\n        tempQueue.append(queue.dequeue())\n\n    while stack:\n        tempQueue.append(stack.pop())\n\n    while tempQueue:\n        queue.enqueue(tempQueue.pop(0))\n\n    return queue\nclass Queue:\n    def __init__(self):\n        self.items = []\n\n    def enqueue(self, item):\n        self.items.append(item)\n\n    def dequeue(self):\n        if not self.empty():\n            return self.items.pop(0)\n\n    def size(self):\n        return len(self.items)\n\n    def empty(self):\n        return len(self.items) == 0\n\n    def front(self):\n        if not self.empty():\n            return self.items[0]\n\nqueue = Queue()\nqueue.enqueue(1)\nqueue.enqueue(2)\nqueue.enqueue(3)\nqueue.enqueue(4)\nqueue.enqueue(5)\n\nk = 3\n\nreversedQueue = reverseKElements(queue, k)\n\nwhile not reversedQueue.empty():\n    print(reversedQueue.dequeue(), end=\" \")\n",
      "metadata": {
        "trusted": true
      },
      "execution_count": 17,
      "outputs": [
        {
          "name": "stdout",
          "text": "4 5 3 2 1 ",
          "output_type": "stream"
        }
      ],
      "id": "180b7155-9b47-4d63-80d2-c12dba0b50f6"
    },
    {
      "cell_type": "markdown",
      "source": "Question 7\n\nGiven a sequence of n strings, the task is to check if any two similar words come together and then destroy each other then print the number of words left in the sequence after this pairwise destruction.\n\n",
      "metadata": {},
      "id": "c389024e-163a-4dc6-a46b-95f55ce576b3"
    },
    {
      "cell_type": "code",
      "source": "def countWordsLeft(sequence):\n    stack = []\n\n    for word in sequence:\n        if not stack or word != stack[-1]:\n            stack.append(word)\n        else:\n            stack.pop()\n\n    return len(stack)\nsequence = [\"ab\", \"aa\", \"aa\", \"bcd\", \"ab\"]\nresult = countWordsLeft(sequence)\nprint(result)\n",
      "metadata": {
        "trusted": true
      },
      "execution_count": 19,
      "outputs": [
        {
          "name": "stdout",
          "text": "3\n",
          "output_type": "stream"
        }
      ],
      "id": "f7c0a71f-9f71-49a2-bec5-3267ca4edb7f"
    },
    {
      "cell_type": "markdown",
      "source": "Question 8\n\nGiven an array of integers, the task is to find the maximum absolute difference between the nearest left and the right smaller element of every element in the array.\n",
      "metadata": {},
      "id": "fff11dbb-94ef-4d3e-82ca-cd10191b140b"
    },
    {
      "cell_type": "code",
      "source": "def maxAbsDifference(arr):\n    n = len(arr)\n    leftStack = []\n    rightStack = []\n    leftSmaller = [0] * n\n    rightSmaller = [0] * n\n\n    for i in range(n):\n        while leftStack and leftStack[-1] >= arr[i]:\n            leftStack.pop()\n        if leftStack:\n            leftSmaller[i] = leftStack[-1]\n        else:\n            leftSmaller[i] = 0\n        leftStack.append(arr[i])\n\n    for i in range(n - 1, -1, -1):\n        while rightStack and rightStack[-1] >= arr[i]:\n            rightStack.pop()\n        if rightStack:\n            rightSmaller[i] = rightStack[-1]\n        else:\n            rightSmaller[i] = 0\n        rightStack.append(arr[i])\n\n    maxDiff = 0\n    for i in range(n):\n        maxDiff = max(maxDiff, abs(leftSmaller[i] - rightSmaller[i]))\n\n    return maxDiff\n\narr1 = [2, 1, 8]\nresult1 = maxAbsDifference(arr1)\nprint(result1) \n\narr2 = [2, 4, 8, 7, 7, 9, 3]\nresult2 = maxAbsDifference(arr2)\nprint(result2) \narr3 = [5, 1, 9, 2, 5, 1, 7]\nresult3 = maxAbsDifference(arr3)\nprint(result3)  \n\n",
      "metadata": {
        "trusted": true
      },
      "execution_count": 21,
      "outputs": [
        {
          "name": "stdout",
          "text": "1\n4\n1\n",
          "output_type": "stream"
        }
      ],
      "id": "08842031-068c-4e77-88be-5d658b303ec5"
    },
    {
      "cell_type": "code",
      "source": "",
      "metadata": {},
      "execution_count": null,
      "outputs": [],
      "id": "f399b4c7-a058-43b2-b305-97116520546f"
    }
  ]
}