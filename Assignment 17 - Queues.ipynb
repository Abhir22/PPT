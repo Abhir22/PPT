{
  "metadata": {
    "kernelspec": {
      "name": "python",
      "display_name": "Python (Pyodide)",
      "language": "python"
    },
    "language_info": {
      "codemirror_mode": {
        "name": "python",
        "version": 3
      },
      "file_extension": ".py",
      "mimetype": "text/x-python",
      "name": "python",
      "nbconvert_exporter": "python",
      "pygments_lexer": "ipython3",
      "version": "3.8"
    }
  },
  "nbformat_minor": 5,
  "nbformat": 4,
  "cells": [
    {
      "cell_type": "markdown",
      "source": "Question 1\nGiven a string `s`, ind the first non-repeating character in it and return its index. If it does not exist, return `-1`.\n",
      "metadata": {},
      "id": "08065945-6da5-4dcb-9bc6-c702a8d61dbb"
    },
    {
      "cell_type": "code",
      "source": "def firstUniqChar(s):\n    char_count = {}\n\n    for char in s:\n        if char in char_count:\n            char_count[char] += 1\n        else:\n            char_count[char] = 1\n\n    for i in range(len(s)):\n        if char_count[s[i]] == 1:\n            return i\n\n    return -1\n\ns = \"leetcode\"\nresult = firstUniqChar(s)\nprint(result)  \n",
      "metadata": {
        "trusted": true
      },
      "execution_count": 2,
      "outputs": [
        {
          "name": "stdout",
          "text": "0\n",
          "output_type": "stream"
        }
      ],
      "id": "3f87c114-6fc2-4560-ac5b-2323f156764e"
    },
    {
      "cell_type": "markdown",
      "source": "Question 2\nGiven a circular integer array `nums` of length `n`, return *the maximum possible sum of a non-empty subarray of `nums`.\n\nA circular array means the end of the array connects to the beginning of the array. Formally, the next element of `nums[i]` is `nums[(i + 1) % n]` and the previous element of `nums[i]` is `nums[(i - 1 + n) % n]`.\n\nA subarray may only include each element of the fixed buffer `nums` at most once. Formally, for a subarray `nums[i], nums[i + 1], ..., nums[j]`, there does not exist `i <= k1`, `k2 <= j` with `k1 % n == k2 % n`.",
      "metadata": {},
      "id": "d16ac96a-5d91-4f7c-80ff-12474f3ed1bf"
    },
    {
      "cell_type": "code",
      "source": "def maxSubarraySumCircular(nums):\n    n = len(nums)\n\n    def kadane(arr):\n        max_sum = float('-inf')\n        curr_sum = 0\n        for num in arr:\n            curr_sum = max(num, curr_sum + num)\n            max_sum = max(max_sum, curr_sum)\n        return max_sum\n\n    max_sum_within = kadane(nums)\n\n    total_sum = sum(nums)\n  \n    inverted_nums = [-num for num in nums]\n\n    max_sum_wrap = total_sum + kadane(inverted_nums)\n\n    return max(max_sum_within, max_sum_wrap)\n\nnums = [1, -2, 3, -2]\nresult = maxSubarraySumCircular(nums)\nprint(result)  \n\n",
      "metadata": {
        "trusted": true
      },
      "execution_count": 6,
      "outputs": [
        {
          "name": "stdout",
          "text": "3\n",
          "output_type": "stream"
        }
      ],
      "id": "4aa06389-bb41-4fb7-b80e-994c30a23b04"
    },
    {
      "cell_type": "markdown",
      "source": "Question 3\nThe school cafeteria offers circular and square sandwiches at lunch break, referred to by numbers `0` and `1` respectively. All students stand in a queue. Each student either prefers square or circular sandwiches.\n\nThe number of sandwiches in the cafeteria is equal to the number of students. The sandwiches are placed in a stack. At each step:\n\n- If the student at the front of the queue prefers the sandwich on the top of the stack, they will take it and leave the queue.\n- Otherwise, they will leave it and go to the queue's end.\n\nThis continues until none of the queue students want to take the top sandwich and are thus unable to eat.\n\nYou are given two integer arrays `students` and `sandwiches` where `sandwiches[i]` is the type of the `ith` sandwich in the stack (`i = 0` is the top of the stack) and `students[j]` is the preference of the `jth` student in the initial queue (`j = 0` is the front of the queue). ",
      "metadata": {},
      "id": "cb78a855-9dff-4e4a-bb0c-062bd5bb3bb0"
    },
    {
      "cell_type": "code",
      "source": "def countStudents(students, sandwiches):\n    count = 0 \n    while students:\n        if students[0] == sandwiches[0]:\n            students.pop(0)\n            sandwiches.pop(0)\n            count = 0  \n        else:\n            students.append(students.pop(0))\n            count += 1 \n\n        if count == len(students):\n            break\n\n    return len(students)\n\nstudents = [1, 1, 1, 0, 0, 1]\nsandwiches = [1, 0, 0, 0, 1, 1]\nresult = countStudents(students, sandwiches)\nprint(result)  ",
      "metadata": {
        "trusted": true
      },
      "execution_count": 9,
      "outputs": [
        {
          "name": "stdout",
          "text": "3\n",
          "output_type": "stream"
        }
      ],
      "id": "8ecdfa18-5ae2-4b25-8c1d-235a00ac4400"
    },
    {
      "cell_type": "markdown",
      "source": "Question 4\n\nYou have a `RecentCounter` class which counts the number of recent requests within a certain time frame.\n\nImplement the `RecentCounter` class:\n\n- `RecentCounter()` Initializes the counter with zero recent requests.\n- `int ping(int t)` Adds a new request at time `t`, where `t` represents some time in milliseconds, and returns the number of requests that has happened in the past `3000` milliseconds (including the new request). Specifically, return the number of requests that have happened in the inclusive range `[t - 3000, t]`.\n\nIt is guaranteed that every call to `ping` uses a strictly larger value of `t` than the previous call.\n",
      "metadata": {},
      "id": "6a4d695d-13db-4a55-a264-2aad28591786"
    },
    {
      "cell_type": "code",
      "source": "from collections import deque\n\nclass RecentCounter:\n    def __init__(self):\n        self.requests = deque()\n\n    def ping(self, t: int) -> int:\n        while self.requests and self.requests[0] < t - 3000:\n            self.requests.popleft()\n\n        self.requests.append(t)\n        return len(self.requests)\nrecentCounter = RecentCounter()\nprint(recentCounter.ping(1))  \nprint(recentCounter.ping(100))  \nprint(recentCounter.ping(3001)) \nprint(recentCounter.ping(3002))  \n",
      "metadata": {
        "trusted": true
      },
      "execution_count": 11,
      "outputs": [
        {
          "name": "stdout",
          "text": "1\n2\n3\n3\n",
          "output_type": "stream"
        }
      ],
      "id": "00c56ea6-4c35-45e7-b53e-4f8f2097e7fd"
    },
    {
      "cell_type": "markdown",
      "source": "Question 5\n\nThere are `n` friends that are playing a game. The friends are sitting in a circle and are numbered from `1` to `n` in **clockwise order**. More formally, moving clockwise from the `ith` friend brings you to the `(i+1)th` friend for `1 <= i < n`, and moving clockwise from the `nth` friend brings you to the `1st` friend.\n\nThe rules of the game are as follows:\n\n1. Start at the `1st` friend.\n2. Count the next `k` friends in the clockwise direction including the friend you started at. The counting wraps around the circle and may count some friends more than once.\n3. The last friend you counted leaves the circle and loses the game.\n4. If there is still more than one friend in the circle, go back to step `2` starting from the friend immediately clockwise of the friend who just lost and repeat.\n5. Else, the last friend in the circle wins the game.",
      "metadata": {},
      "id": "9d89fc6c-1d3c-406f-8514-ba4f2342410d"
    },
    {
      "cell_type": "code",
      "source": "from collections import deque\n\ndef findTheWinner(n: int, k: int) -> int:\n    friends = deque(range(1, n + 1))\n\n    while len(friends) > 1:\n\n        for _ in range(k - 1):\n            friends.append(friends.popleft())\n        friends.popleft()\n\n    return friends[0]\nn = 6\nk = 5\nwinner = findTheWinner(n, k)\nprint(winner)  ",
      "metadata": {
        "trusted": true
      },
      "execution_count": 13,
      "outputs": [
        {
          "name": "stdout",
          "text": "1\n",
          "output_type": "stream"
        }
      ],
      "id": "2c29b5e2-1d37-426e-a21d-9ca0cc35e3a0"
    },
    {
      "cell_type": "markdown",
      "source": "Question 6\n\nYou are given an integer array `deck`. There is a deck of cards where every card has a unique integer. The integer on the `ith` card is `deck[i]`.\n\nYou can order the deck in any order you want. Initially, all the cards start face down (unrevealed) in one deck.\n\nYou will do the following steps repeatedly until all cards are revealed:\n\n1. Take the top card of the deck, reveal it, and take it out of the deck.\n2. If there are still cards in the deck then put the next top card of the deck at the bottom of the deck.\n3. If there are still unrevealed cards, go back to step 1. Otherwise, stop.\n\n",
      "metadata": {},
      "id": "7b5c14a5-622a-45fc-b2c3-8b05c3aeefc8"
    },
    {
      "cell_type": "code",
      "source": "import collections\n\ndef deckRevealedIncreasing(deck):\n    n = len(deck)\n    sorted_deck = sorted(deck, reverse=True)\n    result = collections.deque()\n\n    for card in sorted_deck:\n        if result:\n            result.appendleft(result.pop())\n\n        result.appendleft(card)\n\n    return list(result)\ndeck = [1, 1000]\nresult = deckRevealedIncreasing(deck)\nprint(result) \n",
      "metadata": {
        "trusted": true
      },
      "execution_count": 15,
      "outputs": [
        {
          "name": "stdout",
          "text": "[1, 1000]\n",
          "output_type": "stream"
        }
      ],
      "id": "2d9ff840-1724-4576-b1fa-1e4fbee87907"
    },
    {
      "cell_type": "markdown",
      "source": "Question 7\n\nDesign a queue that supports `push` and `pop` operations in the front, middle, and back.\n\nImplement the `FrontMiddleBack` class:\n\n- `FrontMiddleBack()` Initializes the queue.\n- `void pushFront(int val)` Adds `val` to the front of the queue.\n- `void pushMiddle(int val)` Adds `val` to the middle of the queue.\n- `void pushBack(int val)` Adds `val` to the back of the queue.\n- `int popFront()` Removes the front element of the queue and returns it. If the queue is empty, return `1`.\n- `int popMiddle()` Removes the middle element of the queue and returns it. If the queue is empty, return `1`.\n- `int popBack()` Removes the back element of the queue and returns it. If the queue is empty, return `1`.\nFor example:\n\n- Pushing `6` into the middle of `[1, 2, 3, 4, 5]` results in `[1, 2, 6, 3, 4, 5]`.\n- Popping the middle from `[1, 2, 3, 4, 5, 6]` returns `3` and results in `[1, 2, 4, 5, 6]`.",
      "metadata": {},
      "id": "71f33cc3-a437-4a8f-905e-999ea3c21e48"
    },
    {
      "cell_type": "code",
      "source": "class FrontMiddleBackQueue:\n    def __init__(self):\n        self.front = []\n        self.back = []\n        self.middle = -1\n\n    def pushFront(self, val):\n        self.front.append(val)\n        if self.middle == -1:\n            self.middle = 0\n        else:\n            self.middle += 1\n\n    def pushMiddle(self, val):\n        if self.middle == -1 or self.middle == len(self.front):\n            self.back.append(val)\n        else:\n            self.front.insert(self.middle, val)\n            self.middle += 1\n\n    def pushBack(self, val):\n        self.back.append(val)\n        if self.middle == -1:\n            self.middle = 0\n\n    def popFront(self):\n        if not self.front and not self.back:\n            return 1\n\n        if self.front:\n            self.middle -= 1\n            return self.front.pop(0)\n\n        self.front.append(self.back.pop(0))\n        self.middle -= 1\n        return self.front.pop(0)\n\n    def popMiddle(self):\n        if not self.front and not self.back:\n            return 1\n\n        if len(self.front) > len(self.back):\n            self.middle -= 1\n            return self.front.pop()\n\n        self.middle += 1\n        return self.back.pop(0)\n\n    def popBack(self):\n        if not self.front and not self.back:\n            return 1\n\n        if self.back:\n            return self.back.pop()\n\n        self.back.append(self.front.pop())\n        self.middle -= 1\n        return self.back.pop()\n\n",
      "metadata": {
        "trusted": true
      },
      "execution_count": 18,
      "outputs": [],
      "id": "4c57fe9c-8a86-4277-bb24-db9829a3b0db"
    },
    {
      "cell_type": "markdown",
      "source": "Question 8\n\nFor a stream of integers, implement a data structure that checks if the last `k` integers parsed in the stream are equal to `value`.\n\nImplement the DataStream class:\n\n- `DataStream(int value, int k)` Initializes the object with an empty integer stream and the two integers `value` and `k`.\n- `boolean consec(int num)` Adds `num` to the stream of integers. Returns `true` if the last `k` integers are equal to `value`, and `false` otherwise. If there are less than `k` integers, the condition does not hold true, so returns `false`.",
      "metadata": {},
      "id": "92ef2cb3-a467-4679-988a-e41faf18ebb6"
    },
    {
      "cell_type": "code",
      "source": "class DataStream:\n    def __init__(self, value, k):\n        self.stream = []\n        self.value = value\n        self.k = k\n\n    def consec(self, num):\n        self.stream.append(num)\n        if len(self.stream) < self.k:\n            return False\n        return self.stream[-self.k:] == [self.value] * self.k\ndataStream = DataStream(4, 3)\nprint(dataStream.consec(4))  \nprint(dataStream.consec(4)) \nprint(dataStream.consec(4))  \nprint(dataStream.consec(3))  \n\n",
      "metadata": {
        "trusted": true
      },
      "execution_count": 21,
      "outputs": [
        {
          "name": "stdout",
          "text": "False\nFalse\nTrue\nFalse\n",
          "output_type": "stream"
        }
      ],
      "id": "56b5990b-92aa-41c3-9dc3-df14eb2027ad"
    },
    {
      "cell_type": "code",
      "source": "\n",
      "metadata": {},
      "execution_count": null,
      "outputs": [],
      "id": "c9b2128c-4873-4c8f-bbb5-18b424d55252"
    }
  ]
}