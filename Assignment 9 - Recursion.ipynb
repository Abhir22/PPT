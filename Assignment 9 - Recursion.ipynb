{
  "metadata": {
    "kernelspec": {
      "name": "python",
      "display_name": "Python (Pyodide)",
      "language": "python"
    },
    "language_info": {
      "codemirror_mode": {
        "name": "python",
        "version": 3
      },
      "file_extension": ".py",
      "mimetype": "text/x-python",
      "name": "python",
      "nbconvert_exporter": "python",
      "pygments_lexer": "ipython3",
      "version": "3.8"
    }
  },
  "nbformat_minor": 5,
  "nbformat": 4,
  "cells": [
    {
      "cell_type": "markdown",
      "source": "Question 1\n\nGiven an integer `n`, return `true` if it is a power of two. Otherwise, return `false`.\n\nAn integer `n` is a power of two, if there exists an integer `x` such that `n == 2x`.",
      "metadata": {},
      "id": "367bd910-c111-40d5-b435-e89aa3a11f08"
    },
    {
      "cell_type": "code",
      "source": "def isPowerOfTwo(n):\n    if n <= 0:\n        return False\n    return n & (n - 1) == 0\nprint(isPowerOfTwo(1))  \nprint(isPowerOfTwo(16)) \nprint(isPowerOfTwo(3))  \n",
      "metadata": {
        "trusted": true
      },
      "execution_count": 1,
      "outputs": [
        {
          "name": "stdout",
          "text": "True\nTrue\nFalse\n",
          "output_type": "stream"
        }
      ],
      "id": "31a3cb5e-9281-48ea-a99d-f290099e3bec"
    },
    {
      "cell_type": "markdown",
      "source": "Question 2\n\nGiven a number n, find the sum of the first natural numbers.",
      "metadata": {},
      "id": "2ac04ab7-ea28-49d7-83cd-a0f7c740ccde"
    },
    {
      "cell_type": "code",
      "source": "def sumOfNaturalNumbers(n):\n    return (n * (n + 1)) // 2\nprint(sumOfNaturalNumbers(3))  \nprint(sumOfNaturalNumbers(5)) \n",
      "metadata": {
        "trusted": true
      },
      "execution_count": 2,
      "outputs": [
        {
          "name": "stdout",
          "text": "6\n15\n",
          "output_type": "stream"
        }
      ],
      "id": "c7e2af84-0042-47e6-9647-df5751f1f044"
    },
    {
      "cell_type": "markdown",
      "source": "Question 3 Given a positive integer, N. Find the factorial of N. ",
      "metadata": {},
      "id": "66b04d9c-814f-4b23-82ef-23db1f700ec2"
    },
    {
      "cell_type": "code",
      "source": "def factorial(N):\n    result = 1\n    for i in range(1, N + 1):\n        result *= i\n    return result\nprint(factorial(5))\n\n",
      "metadata": {
        "trusted": true
      },
      "execution_count": 3,
      "outputs": [
        {
          "name": "stdout",
          "text": "120\n",
          "output_type": "stream"
        }
      ],
      "id": "d035744d-6ad3-458e-928d-7157836eb2c4"
    },
    {
      "cell_type": "markdown",
      "source": "Question 4\n\nGiven a number N and a power P, the task is to find the exponent of this number raised to the given power, i.e. N^P.",
      "metadata": {},
      "id": "e39efa78-c3dd-47f7-a08d-8cd8715f391a"
    },
    {
      "cell_type": "code",
      "source": "def calculate_exponent(N, P):\n    result = N ** P\n    return result\nprint(calculate_exponent(5, 2))  \n",
      "metadata": {
        "trusted": true
      },
      "execution_count": 5,
      "outputs": [
        {
          "name": "stdout",
          "text": "25\n",
          "output_type": "stream"
        }
      ],
      "id": "701ab5c3-24be-44d6-9f81-c2d96f2c5860"
    },
    {
      "cell_type": "markdown",
      "source": "Question 5\n\nGiven an array of integers arr, the task is to find maximum element of that array using recursion.\n",
      "metadata": {},
      "id": "c8a45668-5c7a-4a7a-8b90-71d6e5a65260"
    },
    {
      "cell_type": "code",
      "source": "def find_max(arr):\n    if len(arr) == 1:\n        return arr[0]\n    return max(arr[0], find_max(arr[1:]))\narr = [1, 4, 3, -5, -4, 8, 6]\nprint(find_max(arr))  \n",
      "metadata": {
        "trusted": true
      },
      "execution_count": 6,
      "outputs": [
        {
          "name": "stdout",
          "text": "8\n",
          "output_type": "stream"
        }
      ],
      "id": "fe02d57e-92b9-4942-be84-5ee7d41a2a0e"
    },
    {
      "cell_type": "markdown",
      "source": "Question 6\n\nGiven first term (a), common difference (d) and a integer N of the Arithmetic Progression series, the task is to find Nth term of the series.\n",
      "metadata": {},
      "id": "163b39a1-a576-445f-b08a-7afcd8f09323"
    },
    {
      "cell_type": "code",
      "source": "def find_nth_term(a, d, N):\n    nth_term = a + (N - 1) * d\n    return nth_term\na = 2\nd = 1\nN = 5\nprint(find_nth_term(a, d, N))  ",
      "metadata": {
        "trusted": true
      },
      "execution_count": 7,
      "outputs": [
        {
          "name": "stdout",
          "text": "6\n",
          "output_type": "stream"
        }
      ],
      "id": "f45fc0fc-ce87-48d2-bde2-f66e28774361"
    },
    {
      "cell_type": "markdown",
      "source": "Question 7\nGiven a string S, the task is to write a program to print all permutations of a given string.",
      "metadata": {},
      "id": "09ee770c-9fcd-4497-a36d-989c5c60677b"
    },
    {
      "cell_type": "code",
      "source": "def permutations(string):\n    if len(string) == 1:\n        return [string]\n    perms = []\n    for i in range(len(string)):\n        fixed_char = string[i]\n        remaining_chars = string[:i] + string[i+1:]\n        sub_perms = permutations(remaining_chars)\n        for perm in sub_perms:\n            perms.append(fixed_char + perm)\n\n    return perms\nS = \"ABC\"\nresult = permutations(S)\nprint(result)\n",
      "metadata": {
        "trusted": true
      },
      "execution_count": 8,
      "outputs": [
        {
          "name": "stdout",
          "text": "['ABC', 'ACB', 'BAC', 'BCA', 'CAB', 'CBA']\n",
          "output_type": "stream"
        }
      ],
      "id": "09531ea5-64ab-4e3c-bc30-b9b16cbc3d33"
    },
    {
      "cell_type": "markdown",
      "source": "Question 8\nGiven an array, find a product of all array elements.",
      "metadata": {},
      "id": "50cb9e80-0bde-43e9-9db3-cea141bd006f"
    },
    {
      "cell_type": "code",
      "source": "def product_of_array(arr):\n    product = 1\n\n    for num in arr:\n        product *= num\n\n    return product\narr = [1, 2, 3, 4, 5]\nresult = product_of_array(arr)\nprint(result)\n",
      "metadata": {
        "trusted": true
      },
      "execution_count": 9,
      "outputs": [
        {
          "name": "stdout",
          "text": "120\n",
          "output_type": "stream"
        }
      ],
      "id": "7026d424-4c13-4844-82be-cf64813143ca"
    },
    {
      "cell_type": "code",
      "source": "",
      "metadata": {},
      "execution_count": null,
      "outputs": [],
      "id": "b0931cbb-e6f9-4d93-9688-bdbd7c301c4d"
    }
  ]
}