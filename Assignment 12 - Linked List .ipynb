{
  "metadata": {
    "kernelspec": {
      "name": "python",
      "display_name": "Python (Pyodide)",
      "language": "python"
    },
    "language_info": {
      "codemirror_mode": {
        "name": "python",
        "version": 3
      },
      "file_extension": ".py",
      "mimetype": "text/x-python",
      "name": "python",
      "nbconvert_exporter": "python",
      "pygments_lexer": "ipython3",
      "version": "3.8"
    }
  },
  "nbformat_minor": 5,
  "nbformat": 4,
  "cells": [
    {
      "cell_type": "markdown",
      "source": "Question 1\n\nGiven a singly linked list, delete middle of the linked list. For example, if given linked list is 1->2->3->4->5 then linked list should be modified to 1->2->4->5.If there are **even** nodes, then there would be **two middle** nodes, we need to delete the second middle element. For example, if given linked list is 1->2->3->4->5->6 then it should be modified to 1->2->3->5->6.If the input linked list is NULL or has 1 node, then it should return NULL",
      "metadata": {},
      "id": "d25c91f2-7094-4f41-aa6a-6d3bfd74c4fe"
    },
    {
      "cell_type": "code",
      "source": "class ListNode:\n    def __init__(self, val=0, next=None):\n        self.val = val\n        self.next = next\n\ndef deleteMiddleNode(head):\n    if not head or not head.next:\n        return head\n\n    slow = head\n    fast = head\n    prev = None\n\n    while fast and fast.next:\n        fast = fast.next.next\n        prev = slow\n        slow = slow.next\n\n    prev.next = slow.next\n    return head\nhead = ListNode(1)\nhead.next = ListNode(2)\nhead.next.next = ListNode(3)\nhead.next.next.next = ListNode(4)\nhead.next.next.next.next = ListNode(5)\n\nnew_head = deleteMiddleNode(head)\ncurrent = new_head\nwhile current:\n    print(current.val, end=\" \")\n    current = current.next\n",
      "metadata": {
        "trusted": true
      },
      "execution_count": 3,
      "outputs": [
        {
          "name": "stdout",
          "text": "1 2 4 5 ",
          "output_type": "stream"
        }
      ],
      "id": "36abee8d-deca-454c-a076-e7bea2a1b9d8"
    },
    {
      "cell_type": "markdown",
      "source": "Question 2\n\nGiven a linked list of N nodes. The task is to check if the linked list has a loop. Linked list can contain self loop.",
      "metadata": {},
      "id": "4ce02d69-2886-48be-b7ed-c1c8395634fc"
    },
    {
      "cell_type": "code",
      "source": "class ListNode:\n    def __init__(self, val=0, next=None):\n        self.val = val\n        self.next = next\n\ndef hasLoop(head):\n    if not head or not head.next:\n        return False\n\n    slow = head\n    fast = head\n\n    while fast and fast.next:\n        slow = slow.next\n        fast = fast.next.next\n\n        if slow == fast:\n            return True\n\n    return False\nhead = ListNode(1)\nhead.next = ListNode(3)\nhead.next.next = ListNode(4)\nhead.next.next.next = ListNode(2)\nhead.next.next.next.next = head.next\n\nhas_loop = hasLoop(head)\nprint(has_loop)\n",
      "metadata": {
        "trusted": true
      },
      "execution_count": 4,
      "outputs": [
        {
          "name": "stdout",
          "text": "True\n",
          "output_type": "stream"
        }
      ],
      "id": "d6ec2f47-3a73-47e9-aefb-7c12d986c294"
    },
    {
      "cell_type": "markdown",
      "source": "Question 3\nGiven a linked list consisting of L nodes and given a number N. The task is to find the *N'th node from the end of the linked list.",
      "metadata": {},
      "id": "df63ea27-df33-4db6-b888-690744437bca"
    },
    {
      "cell_type": "code",
      "source": "class ListNode:\n    def __init__(self, val=0, next=None):\n        self.val = val\n        self.next = next\n\ndef findNthFromEnd(head, N):\n    if not head:\n        return None\n\n    slow = head\n    fast = head\n    for _ in range(N):\n        if not fast:\n            return None\n        fast = fast.next\n    while fast and fast.next:\n        slow = slow.next\n        fast = fast.next\n    return slow.val\nhead = ListNode(1)\nhead.next = ListNode(2)\nhead.next.next = ListNode(3)\nhead.next.next.next = ListNode(4)\nhead.next.next.next.next = ListNode(5)\nhead.next.next.next.next.next = ListNode(6)\nhead.next.next.next.next.next.next = ListNode(7)\nhead.next.next.next.next.next.next.next = ListNode(8)\nhead.next.next.next.next.next.next.next.next = ListNode(9)\n\nN = 2\nnth_from_end = findNthFromEnd(head, N)\nprint(nth_from_end)\n",
      "metadata": {
        "trusted": true
      },
      "execution_count": 5,
      "outputs": [
        {
          "name": "stdout",
          "text": "7\n",
          "output_type": "stream"
        }
      ],
      "id": "946f7cc5-e5fe-45fd-a9bd-8ea3210140cb"
    },
    {
      "cell_type": "markdown",
      "source": "Question 4\n\nGiven a singly linked list of characters, write a function that returns true if the given list is a palindrome, else false.",
      "metadata": {},
      "id": "973c7e66-dfab-4316-89dc-178dc7bdc506"
    },
    {
      "cell_type": "code",
      "source": "class ListNode:\n    def __init__(self, val=0, next=None):\n        self.val = val\n        self.next = next\n\ndef isPalindrome(head):\n    if not head or not head.next:\n        return True\n    slow = head\n    fast = head\n\n    while fast and fast.next:\n        slow = slow.next\n        fast = fast.next.next\n    prev = None\n    curr = slow\n\n    while curr:\n        next_node = curr.next\n        curr.next = prev\n        prev = curr\n        curr = next_node\n    p1 = head\n    p2 = prev\n\n    while p1 and p2:\n        if p1.val != p2.val:\n            return False\n        p1 = p1.next\n        p2 = p2.next\n\n    return True\nhead1 = ListNode('R')\nhead1.next = ListNode('A')\nhead1.next.next = ListNode('D')\nhead1.next.next.next = ListNode('A')\nhead1.next.next.next.next = ListNode('R')\nhead2 = ListNode('C')\nhead2.next = ListNode('O')\nhead2.next.next = ListNode('D')\nhead2.next.next.next = ListNode('E')\n\nprint(isPalindrome(head1))  \nprint(isPalindrome(head2))  \n",
      "metadata": {
        "trusted": true
      },
      "execution_count": 7,
      "outputs": [
        {
          "name": "stdout",
          "text": "True\nFalse\n",
          "output_type": "stream"
        }
      ],
      "id": "94d682f5-d043-4387-ae66-f1988ac20985"
    },
    {
      "cell_type": "markdown",
      "source": "Question 5\n\nGiven a linked list of N nodes such that it may contain a loop.\n\nA loop here means that the last node of the link list is connected to the node at position X(1-based index). If the link list does not have any loop, X=0.\n\nRemove the loop from the linked list, if it is present, i.e. unlink the last node which is forming the loop.",
      "metadata": {},
      "id": "6d1b5891-429e-4d7c-b1a0-4cc0e1b2baf7"
    },
    {
      "cell_type": "code",
      "source": "class ListNode:\n    def __init__(self, val=0, next=None):\n        self.val = val\n        self.next = next\n\ndef detectAndRemoveLoop(head):\n    slow = head\n    fast = head\n    while fast and fast.next:\n        slow = slow.next\n        fast = fast.next.next\n\n        if slow == fast:\n            break\n    if fast is None or fast.next is None:\n        return head\n    slow = head\n    while slow.next != fast.next:\n        slow = slow.next\n        fast = fast.next\n    fast.next = None\n\n    return head\nhead = ListNode(1)\nhead.next = ListNode(3)\nhead.next.next = ListNode(4)\nhead.next.next.next = head.next\n\nhead = detectAndRemoveLoop(head)\ncurrent = head\nwhile current:\n    print(current.val, end=\" \")\n    current = current.next\n",
      "metadata": {
        "trusted": true
      },
      "execution_count": 9,
      "outputs": [
        {
          "name": "stdout",
          "text": "1 3 4 ",
          "output_type": "stream"
        }
      ],
      "id": "d08909e5-be0e-4fac-9ee1-1543314b30f9"
    },
    {
      "cell_type": "markdown",
      "source": "Question 6\nGiven a linked list and two integers M and N. Traverse the linked list such that you retain M nodes then delete next N nodes, continue the same till end of the linked list.",
      "metadata": {},
      "id": "472255f0-c93e-4856-a07f-5f4f99e9eeb5"
    },
    {
      "cell_type": "code",
      "source": "class ListNode:\n    def __init__(self, val=0, next=None):\n        self.val = val\n        self.next = next\n\ndef skipMdeleteN(head, M, N):\n    if M == 0:\n        return None\n\n    current = head\n    prev = None\n\n    while current:\n        count = 0\n        while count < M and current:\n            prev = current\n            current = current.next\n            count += 1\n        count = 0\n        while count < N and current:\n            current = current.next\n            count += 1\n\n\n    return head\nhead = ListNode(1)\nhead.next = ListNode(2)\nhead.next.next = ListNode(3)\nhead.next.next.next = ListNode(4)\nhead.next.next.next.next = ListNode(5)\nhead.next.next.next.next.next = ListNode(6)\nhead.next.next.next.next.next.next = ListNode(7)\nhead.next.next.next.next.next.next.next = ListNode(8)\nhead = skipMdeleteN(head, 2, 2)\ncurrent = head\nwhile current:\n    print(current.val, end=\" \")\n    current = current.next\n",
      "metadata": {
        "trusted": true
      },
      "execution_count": 11,
      "outputs": [
        {
          "name": "stdout",
          "text": "1 2 3 4 5 6 7 8 ",
          "output_type": "stream"
        }
      ],
      "id": "efaeabf3-90ab-4437-a1f8-00128f2536b3"
    },
    {
      "cell_type": "markdown",
      "source": "Question 7\n\nGiven two linked lists, insert nodes of second list into first list at alternate positions of first list.\nFor example, if first list is 5->7->17->13->11 and second is 12->10->2->4->6, the first list should become 5->12->7->10->17->2->13->4->11->6 and second list should become empty. The nodes of second list should only be inserted when there are positions available. For example, if the first list is 1->2->3 and second list is 4->5->6->7->8, then first list should become 1->4->2->5->3->6 and second list to 7->8.\n\nUse of extra space is not allowed (Not allowed to create additional nodes), i.e., insertion must be done in-place. Expected time complexity is O(n) where n is number of nodes in first list.",
      "metadata": {},
      "id": "97f6e532-b9e1-4097-9df9-20d16f207121"
    },
    {
      "cell_type": "code",
      "source": "class ListNode:\n    def __init__(self, val=0, next=None):\n        self.val = val\n        self.next = next\n\ndef mergeAlternate(head1, head2):\n    if not head2:\n        return head1\n\n    current1 = head1\n    current2 = head2\n\n    while current1 and current2:\n        next1 = current1.next\n        next2 = current2.next\n\n        current1.next = current2\n        current2.next = next1\n\n        current1 = next1\n        current2 = next2\n\n    return head1\nhead1 = ListNode(5)\nhead1.next = ListNode(7)\nhead1.next.next = ListNode(17)\nhead1.next.next.next = ListNode(13)\nhead1.next.next.next.next = ListNode(11)\nhead2 = ListNode(12)\nhead2.next = ListNode(10)\nhead2.next.next = ListNode(2)\nhead2.next.next.next = ListNode(4)\nhead2.next.next.next.next = ListNode(6)\nhead1 = mergeAlternate(head1, head2)\ncurrent = head1\nwhile current:\n    print(current.val, end=\" \")\n    current = current.next\ncurrent = head2\nwhile current:\n    print(current.val, end=\" \")\n    current = current.next\n",
      "metadata": {
        "trusted": true
      },
      "execution_count": 13,
      "outputs": [
        {
          "name": "stdout",
          "text": "5 12 7 10 17 2 13 4 11 6 12 7 10 17 2 13 4 11 6 ",
          "output_type": "stream"
        }
      ],
      "id": "bee13826-3711-4c7a-8b4e-202566cfb6a8"
    },
    {
      "cell_type": "markdown",
      "source": "Question 8\n\nGiven a singly linked list, find if the linked list is circular or not.\n\n> A linked list is called circular if it is not NULL-terminated and all nodes are connected in the form of a cycle. Below is an example of a circular linked list.\n",
      "metadata": {},
      "id": "c5553083-bd37-4529-b5e0-37a92b0b9fce"
    },
    {
      "cell_type": "code",
      "source": "class ListNode:\n    def __init__(self, val=0, next=None):\n        self.val = val\n        self.next = next\n\ndef isCircular(head):\n    if not head or not head.next:\n        return False\n\n    slow = head\n    fast = head.next\n\n    while fast and fast.next:\n        if slow == fast:\n            return True\n        slow = slow.next\n        fast = fast.next.next\n\n    return False\nhead = ListNode(1)\nhead.next = ListNode(2)\nhead.next.next = ListNode(3)\nhead.next.next.next = ListNode(4)\nhead.next.next.next.next = ListNode(5)\nhead.next.next.next.next.next = head.next\nresult = isCircular(head)\nif result:\n    print(\"The linked list is circular.\")\nelse:\n    print(\"The linked list is not circular.\")\n",
      "metadata": {
        "trusted": true
      },
      "execution_count": 17,
      "outputs": [
        {
          "name": "stdout",
          "text": "The linked list is circular.\n",
          "output_type": "stream"
        }
      ],
      "id": "0996faa4-b1fc-495d-87ab-82af53ff95dc"
    },
    {
      "cell_type": "code",
      "source": "",
      "metadata": {},
      "execution_count": null,
      "outputs": [],
      "id": "c1b3c35b-37a3-4684-8c5b-75df0040f805"
    }
  ]
}