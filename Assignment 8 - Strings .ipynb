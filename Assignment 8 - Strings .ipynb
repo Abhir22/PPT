{
  "metadata": {
    "kernelspec": {
      "name": "python",
      "display_name": "Python (Pyodide)",
      "language": "python"
    },
    "language_info": {
      "codemirror_mode": {
        "name": "python",
        "version": 3
      },
      "file_extension": ".py",
      "mimetype": "text/x-python",
      "name": "python",
      "nbconvert_exporter": "python",
      "pygments_lexer": "ipython3",
      "version": "3.8"
    }
  },
  "nbformat_minor": 5,
  "nbformat": 4,
  "cells": [
    {
      "cell_type": "markdown",
      "source": "Question 1\n\nGiven two strings s1 and s2, return the lowest ASCII sum of deleted characters to make two strings equal.",
      "metadata": {},
      "id": "e70d1682-3f60-4400-8ae8-acc2296a2b49"
    },
    {
      "cell_type": "code",
      "source": "def minimumDeleteSum(s1, s2):\n    m, n = len(s1), len(s2)\n    dp = [[0] * (n+1) for _ in range(m+1)]\n    for i in range(1, m+1):\n        dp[i][0] = dp[i-1][0] + ord(s1[i-1])\n    for j in range(1, n+1):\n        dp[0][j] = dp[0][j-1] + ord(s2[j-1])\n    for i in range(1, m+1):\n        for j in range(1, n+1):\n            if s1[i-1] == s2[j-1]:\n                dp[i][j] = dp[i-1][j-1]\n            else:\n                dp[i][j] = min(dp[i-1][j] + ord(s1[i-1]), dp[i][j-1] + ord(s2[j-1]))\n    \n    return dp[m][n]\ns1 = \"sea\"\ns2 = \"eat\"\nresult = minimumDeleteSum(s1, s2)\nprint(result)\n",
      "metadata": {
        "trusted": true
      },
      "execution_count": 1,
      "outputs": [
        {
          "name": "stdout",
          "text": "231\n",
          "output_type": "stream"
        }
      ],
      "id": "11a78782-9fb8-4a3d-9529-128934aa8036"
    },
    {
      "cell_type": "markdown",
      "source": "Question 2\n\nGiven a string s containing only three types of characters: '(', ')' and '*', return true if s is valid.\n\nThe following rules define a valid string:\n\n- Any left parenthesis '(' must have a corresponding right parenthesis ')'.\n- Any right parenthesis ')' must have a corresponding left parenthesis '('.\n- Left parenthesis '(' must go before the corresponding right parenthesis ')'.\n- '*' could be treated as a single right parenthesis ')' or a single left parenthesis '(' or an empty string \"\".",
      "metadata": {},
      "id": "17a6bc24-f8be-4a71-9084-ee575495dc22"
    },
    {
      "cell_type": "code",
      "source": "def checkValidString(s):\n    stack = []\n    star_stack = []\n    for char in s:\n        if char == '(':\n            stack.append(char)\n        elif char == '*':\n            star_stack.append(char)\n        else:  # char == ')'\n            if stack:\n                stack.pop()\n            elif star_stack:\n                star_stack.pop()\n            else:\n                return False\n    while stack and star_stack:\n        if stack[-1] > star_stack[-1]:\n            return False\n        stack.pop()\n        star_stack.pop()\n    \n    return len(stack) == 0\ns = \"()\"\nresult = checkValidString(s)\nprint(result)",
      "metadata": {
        "trusted": true
      },
      "execution_count": 4,
      "outputs": [
        {
          "name": "stdout",
          "text": "True\n",
          "output_type": "stream"
        }
      ],
      "id": "08cd8aff-13b6-4c31-8446-4d958fc2ea1a"
    },
    {
      "cell_type": "markdown",
      "source": "Question 3\n\nGiven two strings word1 and word2, return the minimum number of steps required to make word1 and word2 the same.\n\nIn one step, you can delete exactly one character in either string.",
      "metadata": {},
      "id": "93c16257-2d3d-4d0e-bb07-74404367c64e"
    },
    {
      "cell_type": "code",
      "source": "def minDistance(word1, word2):\n    m, n = len(word1), len(word2)\n    dp = [[0] * (n + 1) for _ in range(m + 1)]\n    for i in range(1, m + 1):\n        for j in range(1, n + 1):\n            if word1[i - 1] == word2[j - 1]:\n                dp[i][j] = dp[i - 1][j - 1] + 1\n            else:\n                dp[i][j] = max(dp[i - 1][j], dp[i][j - 1])\n    \n    lcs_length = dp[m][n]\n    steps = m + n - 2 * lcs_length\n    return steps\nword1 = \"sea\"\nword2 = \"eat\"\nresult = minDistance(word1, word2)\nprint(result)",
      "metadata": {
        "trusted": true
      },
      "execution_count": 7,
      "outputs": [
        {
          "name": "stdout",
          "text": "2\n",
          "output_type": "stream"
        }
      ],
      "id": "8f21a47f-7a84-41dc-acb5-c07f970f29ba"
    },
    {
      "cell_type": "markdown",
      "source": "Question 4\n\nYou need to construct a binary tree from a string consisting of parenthesis and integers.\n\nThe whole input represents a binary tree. It contains an integer followed by zero, one or two pairs of parenthesis. The integer represents the root's value and a pair of parenthesis contains a child binary tree with the same structure.\nYou always start to construct the left child node of the parent first if it exists.",
      "metadata": {},
      "id": "e3a73e06-7dee-48de-9d00-1bfe9d212a21"
    },
    {
      "cell_type": "code",
      "source": "class TreeNode:\n    def __init__(self, val=0, left=None, right=None):\n        self.val = val\n        self.left = left\n        self.right = right\n\ndef str2tree(s):\n    def parse_subtree(s, start):\n        if not s or start >= len(s):\n            return None, start\n        val = \"\"\n        while start < len(s) and s[start] not in ['(', ')']:\n            val += s[start]\n            start += 1\n        root = TreeNode(int(val))\n        if start < len(s):\n            if s[start] == '(':\n                root.left, start = parse_subtree(s, start + 1)\n            if start < len(s) and s[start] == '(':\n                root.right, start = parse_subtree(s, start + 1)\n        if start < len(s) and s[start] == ')':\n            start += 1\n        return root, start\n    root, _ = parse_subtree(s, 0)\n    return root\ns = \"4(2(3)(1))(6(5))\"\nroot = str2tree(s)\ndef print_tree(root):\n    if root:\n        print(root.val, end=\" \")\n        print_tree(root.left)\n        print_tree(root.right)\nprint_tree(root)\n\n",
      "metadata": {},
      "execution_count": null,
      "outputs": [],
      "id": "bd24b10c-2535-4b90-a787-5aa79ce915f5"
    },
    {
      "cell_type": "markdown",
      "source": "Question 5\n\nGiven an array of characters chars, compress it using the following algorithm:\n\nBegin with an empty string s. For each group of consecutive repeating characters in chars:\n\n- If the group's length is 1, append the character to s.\n- Otherwise, append the character followed by the group's length.\n\nThe compressed string s should not be returned separately, but instead, be stored in the input character array chars.\nNote that group lengths that are 10 or longer will be split into multiple characters in chars.\n\nAfter you are done modifying the input array, return the new length of the array.\n\nYou must write an algorithm that uses only constant extra space.",
      "metadata": {},
      "id": "d241c608-ea8e-4f8c-96f7-ed59d55c633a"
    },
    {
      "cell_type": "code",
      "source": "def compress(chars):\n    write_idx = 0  \n    count = 1  \n    for i in range(1, len(chars) + 1):\n        if i < len(chars) and chars[i] == chars[i - 1]:\n            count += 1\n        else:\n            chars[write_idx] = chars[i - 1]  \n            if count > 1:\n                count_str = str(count)\n                chars[write_idx + 1:write_idx + 1 + len(count_str)] = count_str\n                write_idx += len(count_str)\n            \n            write_idx += 1\n            count = 1\n    \n    return write_idx\nchars = [\"a\", \"a\", \"b\", \"b\", \"c\", \"c\", \"c\"]\nnew_length = compress(chars)\ncompressed_chars = chars[:new_length]\n\nprint(new_length)\nprint(compressed_chars)\n",
      "metadata": {
        "trusted": true
      },
      "execution_count": 9,
      "outputs": [
        {
          "name": "stdout",
          "text": "6\n['a', '2', 'b', '2', 'c', '3']\n",
          "output_type": "stream"
        }
      ],
      "id": "7d89e3a7-e819-4025-bb82-92d32e1fcdf4"
    },
    {
      "cell_type": "markdown",
      "source": "Question 6\n\nGiven two strings s and p, return an array of all the start indices of p's anagrams in* s. You may return the answer in any order.\n\nAn Anagram is a word or phrase formed by rearranging the letters of a different word or phrase, typically using all the original letters exactly once.\n",
      "metadata": {},
      "id": "b93c0839-f272-4610-b2c7-39ad6df09f76"
    },
    {
      "cell_type": "code",
      "source": "from collections import Counter\n\ndef findAnagrams(s, p):\n    result = []\n    p_freq = Counter(p)\n    window_freq = Counter(s[:len(p)])  \n    if p_freq == window_freq:\n        result.append(0)\n    \n    for i in range(1, len(s) - len(p) + 1):\n        left_char = s[i - 1]\n        right_char = s[i + len(p) - 1]\n        window_freq[left_char] -= 1\n        if window_freq[left_char] == 0:\n            del window_freq[left_char]\n        window_freq[right_char] += 1\n        \n        if p_freq == window_freq:\n            result.append(i)\n    \n    return result\ns = \"cbaebabacd\"\np = \"abc\"\nindices = findAnagrams(s, p)\nprint(indices)",
      "metadata": {
        "trusted": true
      },
      "execution_count": 11,
      "outputs": [
        {
          "name": "stdout",
          "text": "[0, 6]\n",
          "output_type": "stream"
        }
      ],
      "id": "b7bfc4e6-6342-4211-9b52-c65f11a26826"
    },
    {
      "cell_type": "markdown",
      "source": "Question 7\n\nGiven an encoded string, return its decoded string.\n\nThe encoding rule is: k[encoded_string], where the encoded_string inside the square brackets is being repeated exactly k times. Note that k is guaranteed to be a positive integer.\n\nYou may assume that the input string is always valid; there are no extra white spaces, square brackets are well-formed, etc. Furthermore, you may assume that the original data does not contain any digits and that digits are only for those repeat numbers, k. For example, there will not be input like 3a or 2[4].\n\nThe test cases are generated so that the length of the output will never exceed 105.",
      "metadata": {},
      "id": "79bb5436-db44-4c8d-bee4-68d48b5d3cf3"
    },
    {
      "cell_type": "code",
      "source": "def decodeString(s):\n    stack = []\n    \n    for char in s:\n        if char.isdigit():\n            num = 0\n            while char.isdigit():\n                num = num * 10 + int(char)\n                char = s.pop(0)\n            stack.append(num)\n        \n        if char == '[':\n            stack.append('')\n        \n        if char == ']':\n            substring = ''\n            while not isinstance(stack[-1], int):\n                substring = stack.pop() + substring\n            \n            repeat_times = stack.pop()\n            stack.append(substring * repeat_times)\n        \n        if char.isalpha():\n            stack.append(char)\n    \n    return ''.join(stack)\ns = \"3[a]2[bc]\"\ndecoded_string = decodeString(s)\nprint(decoded_string) ",
      "metadata": {},
      "execution_count": null,
      "outputs": [],
      "id": "47efa1ef-20bf-437c-a16f-031aac70672c"
    },
    {
      "cell_type": "markdown",
      "source": "Question 8\n\nGiven two strings s and goal, return true if you can swap two letters in s so the result is equal to goal, otherwise, return false.\n\nSwapping letters is defined as taking two indices i and j (0-indexed) such that i != j and swapping the characters at s[i] and s[j].\n\n- For example, swapping at indices 0 and 2 in \"abcd\" results in \"cbad\".",
      "metadata": {},
      "id": "3598798d-51a6-4778-ac7f-ab94fcccd351"
    },
    {
      "cell_type": "code",
      "source": "def buddyStrings(s, goal):\n    if len(s) != len(goal):\n        return False\n    \n    if s == goal:\n        seen = set()\n        for char in s:\n            if char in seen:\n                return True\n            seen.add(char)\n        return False\n    \n    diff_positions = []\n    for i in range(len(s)):\n        if s[i] != goal[i]:\n            diff_positions.append(i)\n        \n        if len(diff_positions) > 2:\n            return False\n    \n    if len(diff_positions) != 2:\n        return False\n    \n    return s[diff_positions[0]] == goal[diff_positions[1]] and s[diff_positions[1]] == goal[diff_positions[0]]\ns = \"ab\"\ngoal = \"ba\"\nresult = buddyStrings(s, goal)\nprint(result) \n",
      "metadata": {
        "trusted": true
      },
      "execution_count": 13,
      "outputs": [
        {
          "name": "stdout",
          "text": "True\n",
          "output_type": "stream"
        }
      ],
      "id": "4675540a-772c-458a-9068-d350002be311"
    },
    {
      "cell_type": "code",
      "source": "",
      "metadata": {},
      "execution_count": null,
      "outputs": [],
      "id": "be1aa5ac-1958-4af5-9260-0a0df26634aa"
    }
  ]
}