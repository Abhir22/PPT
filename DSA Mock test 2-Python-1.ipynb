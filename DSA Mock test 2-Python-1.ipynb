{
  "metadata": {
    "kernelspec": {
      "name": "python",
      "display_name": "Python (Pyodide)",
      "language": "python"
    },
    "language_info": {
      "codemirror_mode": {
        "name": "python",
        "version": 3
      },
      "file_extension": ".py",
      "mimetype": "text/x-python",
      "name": "python",
      "nbconvert_exporter": "python",
      "pygments_lexer": "ipython3",
      "version": "3.8"
    }
  },
  "nbformat_minor": 5,
  "nbformat": 4,
  "cells": [
    {
      "cell_type": "markdown",
      "source": "Given a non-negative integer x, return the square root of x rounded down to the nearest integer. The returned integer should be non-negative as well. You must not use any built-in exponent function or operator. \n\n Example 1:\nInput: x = 4 Output: 2 Explanation: The square root of 4 is 2, so we return 2.\nExample 2:\n\nInput: x = 8 Output: 2 Explanation: The square root of 8 is 2.82842..., and since we round it down to the nearest integer, 2 is returned.\nConstraints:\n\n0 <= x <= 2^31 - 1",
      "metadata": {},
      "id": "eee174e0-1d71-40da-a5b7-d4da27076abc"
    },
    {
      "cell_type": "code",
      "source": "def mySqrt(x):\n    if x == 0:\n        return 0\n\n    left = 1\n    right = x\n\n    while left <= right:\n        mid = (left + right) // 2\n        if mid * mid == x:\n            return mid\n        elif mid * mid > x:\n            right = mid - 1\n        else:\n            left = mid + 1\n\n    return right\n\n# Example 1\nx = 4\nresult = mySqrt(x)\nprint(result)\n# Example 2 \nx = 8\nresult = mySqrt(x)\nprint(result)\n",
      "metadata": {
        "trusted": true
      },
      "execution_count": 6,
      "outputs": [
        {
          "name": "stdout",
          "text": "2\n2\n",
          "output_type": "stream"
        }
      ],
      "id": "d437d56b-874b-4635-9cb2-fe096bdcc5f1"
    },
    {
      "cell_type": "code",
      "source": "",
      "metadata": {},
      "execution_count": null,
      "outputs": [],
      "id": "860f62f8-8efc-4d96-949a-b6bd6ac1ed9c"
    }
  ]
}