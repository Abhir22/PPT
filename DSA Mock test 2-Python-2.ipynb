{
  "metadata": {
    "kernelspec": {
      "name": "python",
      "display_name": "Python (Pyodide)",
      "language": "python"
    },
    "language_info": {
      "codemirror_mode": {
        "name": "python",
        "version": 3
      },
      "file_extension": ".py",
      "mimetype": "text/x-python",
      "name": "python",
      "nbconvert_exporter": "python",
      "pygments_lexer": "ipython3",
      "version": "3.8"
    }
  },
  "nbformat_minor": 5,
  "nbformat": 4,
  "cells": [
    {
      "cell_type": "code",
      "source": "class ListNode:\n    def __init__(self, val=0, next=None):\n        self.val = val\n        self.next = next\n\ndef addTwoNumbers(l1, l2):\n    dummy_head = ListNode()\n    current = dummy_head\n    carry = 0\n\n    while l1 or l2:\n        sum = carry\n        if l1:\n            sum += l1.val\n            l1 = l1.next\n        if l2:\n            sum += l2.val\n            l2 = l2.next\n        \n        carry = sum // 10\n        sum = sum % 10\n        \n        current.next = ListNode(sum)\n        current = current.next\n\n    if carry:\n        current.next = ListNode(carry)\n\n    return dummy_head.next\n",
      "metadata": {
        "trusted": true
      },
      "execution_count": 7,
      "outputs": [],
      "id": "860f62f8-8efc-4d96-949a-b6bd6ac1ed9c"
    },
    {
      "cell_type": "code",
      "source": "#Example 1\nl1 = ListNode(2)\nl1.next = ListNode(4)\nl1.next.next = ListNode(3)\n\nl2 = ListNode(5)\nl2.next = ListNode(6)\nl2.next.next = ListNode(4)\n\n\nresult = addTwoNumbers(l1, l2)\n\n\nwhile result:\n    print(result.val, end=\" \")\n    result = result.next\n\n\n",
      "metadata": {
        "trusted": true
      },
      "execution_count": 13,
      "outputs": [
        {
          "name": "stdout",
          "text": "7 0 8 ",
          "output_type": "stream"
        }
      ],
      "id": "939be3df-9c56-48c1-8425-a8ad9d087fc2"
    },
    {
      "cell_type": "code",
      "source": "# Example 2\nl1 = ListNode(0)\n\nl2 = ListNode(0)\n\nresult = addTwoNumbers(l1, l2)\n\nwhile result:\n    print(result.val, end=\" \")\n    result = result.next\n",
      "metadata": {
        "trusted": true
      },
      "execution_count": 17,
      "outputs": [
        {
          "name": "stdout",
          "text": "0 ",
          "output_type": "stream"
        }
      ],
      "id": "1a82ba12-385d-4331-b44f-784d49dbfd65"
    },
    {
      "cell_type": "code",
      "source": "#Example 3\nl1 = ListNode(9)\nl1.next = ListNode(9)\nl1.next.next = ListNode(9)\nl1.next.next.next = ListNode(9)\nl1.next.next.next.next = ListNode(9)\nl1.next.next.next.next.next = ListNode(9)\nl1.next.next.next.next.next.next = ListNode(9)\n\nl2 = ListNode(9)\nl2.next = ListNode(9)\nl2.next.next = ListNode(9)\nl2.next.next.next = ListNode(9)\n\nresult = addTwoNumbers(l1, l2)\n\nwhile result:\n    print(result.val, end=\" \")\n    result = result.next\n",
      "metadata": {
        "trusted": true
      },
      "execution_count": 18,
      "outputs": [
        {
          "name": "stdout",
          "text": "8 9 9 9 0 0 0 1 ",
          "output_type": "stream"
        }
      ],
      "id": "92d815a2-b029-436f-8c37-1214af3b675a"
    }
  ]
}