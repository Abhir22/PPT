{
  "metadata": {
    "language_info": {
      "codemirror_mode": {
        "name": "python",
        "version": 3
      },
      "file_extension": ".py",
      "mimetype": "text/x-python",
      "name": "python",
      "nbconvert_exporter": "python",
      "pygments_lexer": "ipython3",
      "version": "3.8"
    },
    "kernelspec": {
      "name": "python",
      "display_name": "Python (Pyodide)",
      "language": "python"
    }
  },
  "nbformat_minor": 4,
  "nbformat": 4,
  "cells": [
    {
      "cell_type": "markdown",
      "source": "Question 1\nGiven three integer arrays arr1, arr2 and arr3 sorted in strictly increasing order, \nreturn a sorted array of only the integers that appeared in all three arrays.",
      "metadata": {}
    },
    {
      "cell_type": "code",
      "source": "def arraysIntersection(arr1, arr2, arr3):\n    set1 = set(arr1)\n    set2 = set(arr2)\n    set3 = set(arr3)\n\n    common_set = set1 & set2 & set3\n    result = sorted(common_set)\n\n    return result\narr1 = [1, 2, 3, 4, 5]\narr2 = [1, 2, 5, 7, 9]\narr3 = [1, 3, 4, 5, 8]\nresult = arraysIntersection(arr1, arr2, arr3)\nprint(result) \n",
      "metadata": {
        "trusted": true
      },
      "execution_count": 1,
      "outputs": [
        {
          "name": "stdout",
          "text": "[1, 5]\n",
          "output_type": "stream"
        }
      ]
    },
    {
      "cell_type": "markdown",
      "source": "Question 2\nGiven two 0-indexed integer arrays nums1 and nums2, return a list answer of size 2 where:\nanswer[0] is a list of all distinct integers in nums1 which are not present in nums2.\nanswer[1] is a list of all distinct integers in nums2 which are not present in nums1.\nNote that the integers in the lists may be returned in any order.",
      "metadata": {}
    },
    {
      "cell_type": "code",
      "source": "def findDisjointArrays(nums1, nums2):\n    count1 = {}\n    count2 = {}\n\n    for num in nums1:\n        count1[num] = count1.get(num, 0) + 1\n\n    for num in nums2:\n        count2[num] = count2.get(num, 0) + 1\n\n    not_in_nums2 = [num for num in count1 if num not in count2]\n    not_in_nums1 = [num for num in count2 if num not in count1]\n\n    answer = [not_in_nums1, not_in_nums2]\n    return answer\n\n\nnums1 = [1, 2, 3]\nnums2 = [2, 4, 6]\nresult = findDisjointArrays(nums1, nums2)\nprint(result)\n",
      "metadata": {
        "trusted": true
      },
      "execution_count": 2,
      "outputs": [
        {
          "name": "stdout",
          "text": "[[4, 6], [1, 3]]\n",
          "output_type": "stream"
        }
      ]
    },
    {
      "cell_type": "markdown",
      "source": "Question 3\nGiven a 2D integer array matrix, return *the transpose of matrix.\n\nThe transpose of a matrix is the matrix flipped over its main diagonal, switching the matrix's row and column indices.",
      "metadata": {}
    },
    {
      "cell_type": "code",
      "source": "def transposeMatrix(matrix):\n    n = len(matrix)  # Number of columns in the original matrix\n    m = len(matrix[0])  # Number of rows in the original matrix\n    transpose = [[0 for _ in range(n)] for _ in range(m)]\n\n    for i in range(n):\n        for j in range(m):\n            transpose[j][i] = matrix[i][j]\n\n    return transpose\n\nmatrix = [[1, 2, 3], [4, 5, 6], [7, 8, 9]]\nresult = transposeMatrix(matrix)\nprint(result) \n",
      "metadata": {
        "trusted": true
      },
      "execution_count": 5,
      "outputs": [
        {
          "name": "stdout",
          "text": "[[1, 4, 7], [2, 5, 8], [3, 6, 9]]\n",
          "output_type": "stream"
        }
      ]
    },
    {
      "cell_type": "markdown",
      "source": "Question 4\nGiven an integer array nums of 2n integers, group these integers into n pairs (a1, b1), (a2, b2), ..., (an, bn) such that the sum of min(ai, bi) for all i is maximized. Return the maximized sum.",
      "metadata": {}
    },
    {
      "cell_type": "code",
      "source": "def arrayPairSum(nums):\n    nums.sort()\n    max_sum = 0\n    for i in range(0, len(nums), 2):\n        max_sum += nums[i]\n\n    return max_sum\nnums = [1, 4, 3, 2]\nresult = arrayPairSum(nums)\nprint(result) \n",
      "metadata": {
        "trusted": true
      },
      "execution_count": 7,
      "outputs": [
        {
          "name": "stdout",
          "text": "4\n",
          "output_type": "stream"
        }
      ]
    },
    {
      "cell_type": "markdown",
      "source": "Question 5\nYou have n coins and you want to build a staircase with these coins. The staircase consists of k rows \nwhere the ith row has exactly i coins. The last row of the staircase may be incomplete.\nGiven the integer n, return the number of complete rows of the staircase you will build.",
      "metadata": {}
    },
    {
      "cell_type": "code",
      "source": "def arrangeCoins(n):\n    left, right = 0, n\n\n    while left <= right:\n        mid = left + (right - left) // 2\n        total = (mid * (mid + 1)) // 2\n        if total <= n:\n            left = mid + 1\n        else:\n            right = mid - 1\n    return left - 1\nn = 5\nresult = arrangeCoins(n)\nprint(result) \n",
      "metadata": {
        "trusted": true
      },
      "execution_count": 9,
      "outputs": [
        {
          "name": "stdout",
          "text": "2\n",
          "output_type": "stream"
        }
      ]
    },
    {
      "cell_type": "markdown",
      "source": "Question 6\nGiven an integer array nums sorted in non-decreasing order, return an array of the squares of each number sorted in non-decreasing order.",
      "metadata": {}
    },
    {
      "cell_type": "code",
      "source": "def sortedSquares(nums):\n    n = len(nums)\n    left, right = 0, n - 1\n    index = n - 1\n\n    while left <= right:\n        if abs(nums[left]) > abs(nums[right]):\n            nums[index] = nums[left] ** 2\n            left += 1\n        else:\n            nums[index] = nums[right] ** 2\n            right -= 1\n        index -= 1\n    return nums\nnums = [-4, -1, 0, 3, 10]\nresult = sortedSquares(nums)\nprint(result) \n",
      "metadata": {
        "trusted": true
      },
      "execution_count": 11,
      "outputs": [
        {
          "name": "stdout",
          "text": "[4294967296, 65536, 256, 16, 100]\n",
          "output_type": "stream"
        }
      ]
    },
    {
      "cell_type": "markdown",
      "source": "Question 7\nYou are given an m x n matrix M initialized with all 0's and an array of operations ops, where ops[i] = [ai, bi] means M[x][y] should be incremented by one for all 0 <= x < ai and 0 <= y < bi.\n\nCount and return the number of maximum integers in the matrix after performing all the operations",
      "metadata": {}
    },
    {
      "cell_type": "code",
      "source": "def maxCount(m, n, ops):\n    if not ops:\n        return m * n\n    min_ai = min(op[0] for op in ops)\n    min_bi = min(op[1] for op in ops)\n    return min_ai * min_bi\nm = 3\nn = 3\nops = [[2, 2], [3, 3]]\nresult = maxCount(m, n, ops)\nprint(result)",
      "metadata": {
        "trusted": true
      },
      "execution_count": 13,
      "outputs": [
        {
          "name": "stdout",
          "text": "4\n",
          "output_type": "stream"
        }
      ]
    },
    {
      "cell_type": "markdown",
      "source": "Question 8\nGiven the array nums consisting of 2n elements in the form [x1,x2,...,xn,y1,y2,...,yn].\nReturn the array in the form [x1,y1,x2,y2,...,xn,yn]",
      "metadata": {}
    },
    {
      "cell_type": "code",
      "source": "def shuffle(nums, n):\n    result = []\n    for i in range(n):\n        result.append(nums[i])\n        result.append(nums[i + n])\n    return result\nnums = [2, 5, 1, 3, 4, 7]\nn = 3\nresult = shuffle(nums, n)\nprint(result)  \n",
      "metadata": {
        "trusted": true
      },
      "execution_count": 16,
      "outputs": [
        {
          "name": "stdout",
          "text": "[2, 3, 5, 4, 1, 7]\n",
          "output_type": "stream"
        }
      ]
    }
  ]
}