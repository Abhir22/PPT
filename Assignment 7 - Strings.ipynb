{
  "metadata": {
    "kernelspec": {
      "name": "python",
      "display_name": "Python (Pyodide)",
      "language": "python"
    },
    "language_info": {
      "codemirror_mode": {
        "name": "python",
        "version": 3
      },
      "file_extension": ".py",
      "mimetype": "text/x-python",
      "name": "python",
      "nbconvert_exporter": "python",
      "pygments_lexer": "ipython3",
      "version": "3.8"
    }
  },
  "nbformat_minor": 5,
  "nbformat": 4,
  "cells": [
    {
      "cell_type": "markdown",
      "source": "Question 1\n\nGiven two strings s and t, determine if they are isomorphic.\n\nTwo strings s and t are isomorphic if the characters in s can be replaced to get t.\n\nAll occurrences of a character must be replaced with another character while preserving the order of characters.\nNo two characters may map to the same character, but a character may map to itself.",
      "metadata": {},
      "id": "03a3d447-df4b-48ba-87ba-14ff4fa62862"
    },
    {
      "cell_type": "code",
      "source": "def isIsomorphic(s, t):\n    if len(s) != len(t):\n        return False\n\n    char_map = {}\n    used_chars = set()\n\n    for i in range(len(s)):\n        char_s = s[i]\n        char_t = t[i]\n\n        if char_s in char_map:\n            if char_map[char_s] != char_t:\n                return False\n        else:\n            if char_t in used_chars:\n                return False\n            char_map[char_s] = char_t\n            used_chars.add(char_t)\n\n    return True\ns = \"egg\"\nt = \"add\"\nresult = isIsomorphic(s, t)\nprint(result)\n",
      "metadata": {
        "trusted": true
      },
      "execution_count": 10,
      "outputs": [
        {
          "name": "stdout",
          "text": "True\n",
          "output_type": "stream"
        }
      ],
      "id": "b6c6c9c5-cc71-4cba-85e6-d40e4ab7a3ad"
    },
    {
      "cell_type": "markdown",
      "source": "Question 2\n\nGiven a string num which represents an integer, return true if num is a strobogrammatic number.\n\nA strobogrammatic number is a number that looks the same when rotated 180 degrees (looked at upside down).\n",
      "metadata": {},
      "id": "a5612ccc-1f3b-4b23-b28c-768df23c6326"
    },
    {
      "cell_type": "code",
      "source": "def isStrobogrammatic(num):\n    strob_map = {\n        '0': '0',\n        '1': '1',\n        '6': '9',\n        '8': '8',\n        '9': '6'\n    }\n\n    left = 0\n    right = len(num) - 1\n\n    while left <= right:\n        if num[left] not in strob_map or num[right] not in strob_map:\n            return False\n        if num[left] != strob_map[num[right]]:\n            return False\n        left += 1\n        right -= 1\n\n    return True\nnum = \"69\"\nresult = isStrobogrammatic(num)\nprint(result)\n",
      "metadata": {
        "trusted": true
      },
      "execution_count": 12,
      "outputs": [
        {
          "name": "stdout",
          "text": "True\n",
          "output_type": "stream"
        }
      ],
      "id": "8ed162f1-34f9-4f17-8ec5-f8f4e8f90dcb"
    },
    {
      "cell_type": "markdown",
      "source": "Question 3\nGiven two non-negative integers, num1 and num2 represented as string, return the sum of num1 and num2 as a string.\n\nYou must solve the problem without using any built-in library for handling large integers (such as BigInteger). \nYou must also not convert the inputs to integers directly.",
      "metadata": {},
      "id": "e0927b01-aa82-499a-9070-1164bfb7138c"
    },
    {
      "cell_type": "code",
      "source": "def addStrings(num1, num2):\n    result = []\n    carry = 0\n    i = len(num1) - 1\n    j = len(num2) - 1\n\n    while i >= 0 or j >= 0 or carry:\n        digit1 = int(num1[i]) if i >= 0 else 0\n        digit2 = int(num2[j]) if j >= 0 else 0\n\n        total = digit1 + digit2 + carry\n        carry = total // 10\n        digit = total % 10\n\n        result.append(str(digit))\n\n        i -= 1\n        j -= 1\n\n    return ''.join(result[::-1])\nnum1 = \"11\"\nnum2 = \"123\"\nresult = addStrings(num1, num2)\nprint(result)\n",
      "metadata": {
        "trusted": true
      },
      "execution_count": 13,
      "outputs": [
        {
          "name": "stdout",
          "text": "134\n",
          "output_type": "stream"
        }
      ],
      "id": "692d5692-5314-4ec4-b9d6-89b825e28a6f"
    },
    {
      "cell_type": "markdown",
      "source": "Question 4\n\nGiven a string s, reverse the order of characters in each word within a sentence while still preserving whitespace and initial word order.",
      "metadata": {},
      "id": "676ea070-f36e-4ed2-a430-352d13f12caf"
    },
    {
      "cell_type": "code",
      "source": "def reverseWords(s):\n    words = s.split()\n    reversed_words = [word[::-1] for word in words]\n    return ' '.join(reversed_words)\ns = \"Let's take LeetCode contest\"\nresult = reverseWords(s)\nprint(result)\n",
      "metadata": {
        "trusted": true
      },
      "execution_count": 16,
      "outputs": [
        {
          "name": "stdout",
          "text": "s'teL ekat edoCteeL tsetnoc\n",
          "output_type": "stream"
        }
      ],
      "id": "47a7f7d7-cfc4-422c-ad6f-ad139082037f"
    },
    {
      "cell_type": "markdown",
      "source": "Question 5\nGiven a string s and an integer k, reverse the first k characters for every 2k characters counting from the start of the string.\n\nIf there are fewer than k characters left, reverse all of them. If there are less than 2k but greater than or equal to k characters, then reverse the first k characters and leave the other as original.",
      "metadata": {},
      "id": "2d5ea62f-b746-454e-b997-f3dc6534261b"
    },
    {
      "cell_type": "code",
      "source": "def reverseStr(s, k):\n    s = list(s)\n    n = len(s)\n\n    for i in range(0, n, 2 * k):\n        s[i:i + k] = reversed(s[i:i + k])\n    return ''.join(s)\ns = \"abcdefg\"\nk = 2\nresult = reverseStr(s, k)\nprint(result)\n",
      "metadata": {
        "trusted": true
      },
      "execution_count": 17,
      "outputs": [
        {
          "name": "stdout",
          "text": "bacdfeg\n",
          "output_type": "stream"
        }
      ],
      "id": "6b188613-107a-401d-b5c4-0c3f625e0939"
    },
    {
      "cell_type": "markdown",
      "source": "\nQuestion 6\n\nGiven two strings s and goal, return true if and only if s can become goal after some number of shifts on s.\n\nA shift on s consists of moving the leftmost character of s to the rightmost position.\n\n- For example, if s = \"abcde\", then it will be \"bcdea\" after one shift.\n\n",
      "metadata": {},
      "id": "a210e988-2151-4f51-ba33-22da4c2417ad"
    },
    {
      "cell_type": "code",
      "source": "def rotateString(s, goal):\n    if len(s) != len(goal):\n        return False\n    s += s\n    if goal in s:\n        return True\n    else:\n        return False\ns = \"abcde\"\ngoal = \"cdeab\"\nresult = rotateString(s, goal)\nprint(result)\n",
      "metadata": {
        "trusted": true
      },
      "execution_count": 18,
      "outputs": [
        {
          "name": "stdout",
          "text": "True\n",
          "output_type": "stream"
        }
      ],
      "id": "1949d4a4-258b-4c6a-a43b-f8e55e8d9081"
    },
    {
      "cell_type": "markdown",
      "source": "Question 7\n\nGiven two strings s and t, return true if they are equal when both are typed into empty text editors. '#' means a backspace character.\n\nNote that after backspacing an empty text, the text will continue empty.\n",
      "metadata": {},
      "id": "89c777b0-98aa-4c09-bdd2-7ff70f5cfb62"
    },
    {
      "cell_type": "code",
      "source": "def processBackspaces(s):\n    stack = []\n    for char in s:\n        if char != '#':\n            stack.append(char)\n        elif stack:\n            stack.pop()\n    return ''.join(stack)\n\ndef backspaceCompare(s, t):\n    return processBackspaces(s) == processBackspaces(t)\ns = \"ab#c\"\nt = \"ad#c\"\nresult = backspaceCompare(s, t)\nprint(result)\n",
      "metadata": {
        "trusted": true
      },
      "execution_count": 19,
      "outputs": [
        {
          "name": "stdout",
          "text": "True\n",
          "output_type": "stream"
        }
      ],
      "id": "f0415c55-f4cb-4fce-a1ac-7f403eb1a097"
    },
    {
      "cell_type": "markdown",
      "source": "Question 8\n\nYou are given an array coordinates, coordinates[i] = [x, y], where [x, y] represents the coordinate of a point. Check if these points make a straight line in the XY plane.",
      "metadata": {},
      "id": "1e5f748f-50c9-435e-86fb-6b53b2cb71d0"
    },
    {
      "cell_type": "code",
      "source": "def checkStraightLine(coordinates):\n    x1, y1 = coordinates[0]\n    x2, y2 = coordinates[1]\n    slope = (y2 - y1) / (x2 - x1)\n\n    for i in range(2, len(coordinates)):\n        x1, y1 = coordinates[i-1]\n        x2, y2 = coordinates[i]\n        current_slope = (y2 - y1) / (x2 - x1)\n        if current_slope != slope:\n            return False\n\n    return True\ncoordinates = [[1, 2], [2, 3], [3, 4], [4, 5], [5, 6], [6, 7]]\nresult = checkStraightLine(coordinates)\nprint(result)\n",
      "metadata": {
        "trusted": true
      },
      "execution_count": 21,
      "outputs": [
        {
          "name": "stdout",
          "text": "True\n",
          "output_type": "stream"
        }
      ],
      "id": "eafbb8fe-2f0d-411c-9a27-84951a991864"
    }
  ]
}