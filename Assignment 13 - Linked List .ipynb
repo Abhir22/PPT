{
  "metadata": {
    "kernelspec": {
      "name": "python",
      "display_name": "Python (Pyodide)",
      "language": "python"
    },
    "language_info": {
      "codemirror_mode": {
        "name": "python",
        "version": 3
      },
      "file_extension": ".py",
      "mimetype": "text/x-python",
      "name": "python",
      "nbconvert_exporter": "python",
      "pygments_lexer": "ipython3",
      "version": "3.8"
    }
  },
  "nbformat_minor": 5,
  "nbformat": 4,
  "cells": [
    {
      "cell_type": "markdown",
      "source": "Question 1\n\nGiven two linked list of the same size, the task is to create a new linked list using those linked lists. The condition is that the greater node among both linked list will be added to the new linked list.",
      "metadata": {},
      "id": "dd9578d6-4ec9-4637-8856-eada6b456b23"
    },
    {
      "cell_type": "code",
      "source": "class ListNode:\n    def __init__(self, val=0, next=None):\n        self.val = val\n        self.next = next\n\ndef createNewList(list1, list2):\n    if not list1 or not list2:\n        return None\n\n    p1 = list1\n    p2 = list2\n\n    if list1.val >= list2.val:\n        new_head = ListNode(list1.val)\n        p1 = p1.next\n    else:\n        new_head = ListNode(list2.val)\n        p2 = p2.next\n\n    current = new_head\n\n    while p1 and p2:\n        if p1.val >= p2.val:\n            current.next = ListNode(p1.val)\n            p1 = p1.next\n        else:\n            current.next = ListNode(p2.val)\n            p2 = p2.next\n        current = current.next\n    while p1:\n        current.next = ListNode(p1.val)\n        p1 = p1.next\n        current = current.next\n    while p2:\n        current.next = ListNode(p2.val)\n        p2 = p2.next\n        current = current.next\n\n    return new_head\nlist1 = ListNode(5)\nlist1.next = ListNode(2)\nlist1.next.next = ListNode(3)\nlist1.next.next.next = ListNode(8)\n\nlist2 = ListNode(1)\nlist2.next = ListNode(7)\nlist2.next.next = ListNode(4)\nlist2.next.next.next = ListNode(5)\n\nnew_list = createNewList(list1, list2)\n\ncurrent = new_list\nwhile current:\n    print(current.val, end=\" \")\n    current = current.next\n",
      "metadata": {
        "trusted": true
      },
      "execution_count": 3,
      "outputs": [
        {
          "name": "stdout",
          "text": "5 2 3 8 1 7 4 5 ",
          "output_type": "stream"
        }
      ],
      "id": "6deb225f-f6f1-435d-9c62-fe3ba70adcb1"
    },
    {
      "cell_type": "markdown",
      "source": "Question 2\n\nWrite a function that takes a list sorted in non-decreasing order and deletes any duplicate nodes from the list. The list should only be traversed once.\n\nFor example if the linked list is 11->11->11->21->43->43->60 then removeDuplicates() should convert the list to 11->21->43->60.",
      "metadata": {},
      "id": "dbf13875-2501-46c9-918c-eaf18f13e1db"
    },
    {
      "cell_type": "code",
      "source": "class ListNode:\n    def __init__(self, val=0, next=None):\n        self.val = val\n        self.next = next\n\ndef removeDuplicates(head):\n    if not head or not head.next:\n        return head\n\n    current = head\n    while current.next:\n        if current.val == current.next.val:\n            current.next = current.next.next\n        else:\n            current = current.next\n\n    return head\n\nhead = ListNode(11)\nhead.next = ListNode(11)\nhead.next.next = ListNode(11)\nhead.next.next.next = ListNode(21)\nhead.next.next.next.next = ListNode(43)\nhead.next.next.next.next.next = ListNode(43)\nhead.next.next.next.next.next.next = ListNode(60)\n\n\nnew_head = removeDuplicates(head)\n\ncurrent = new_head\nwhile current:\n    print(current.val, end=\" \")\n    current = current.next\n",
      "metadata": {
        "trusted": true
      },
      "execution_count": 5,
      "outputs": [
        {
          "name": "stdout",
          "text": "11 21 43 60 ",
          "output_type": "stream"
        }
      ],
      "id": "3718726a-4410-404e-8825-b4937a992388"
    },
    {
      "cell_type": "markdown",
      "source": "Question 3\n\nGiven a linked list of size N. The task is to reverse every k nodes (where k is an input to the function) in the linked list. If the number of nodes is not a multiple of *k* then left-out nodes, in the end, should be considered as a group and must be reversed (See Example 2 for clarification).",
      "metadata": {},
      "id": "d4ce6668-7321-4a1e-ad13-35ac8f39acc9"
    },
    {
      "cell_type": "code",
      "source": "class ListNode:\n    def __init__(self, val=0, next=None):\n        self.val = val\n        self.next = next\n\ndef reverseKGroup(head, k):\n    # Helper function to reverse a group of k nodes\n    def reverseGroup(head, k):\n        count = 0\n        prev = None\n        current = head\n        while current and count < k:\n            next_node = current.next\n            current.next = prev\n            prev = current\n            current = next_node\n            count += 1\n        if current:\n            head.next = reverseGroup(current, k)\n\n        return prev\n    new_head = reverseGroup(head, k)\n    return new_head\nhead = ListNode(1)\nhead.next = ListNode(2)\nhead.next.next = ListNode(2)\nhead.next.next.next = ListNode(4)\nhead.next.next.next.next = ListNode(5)\nhead.next.next.next.next.next = ListNode(6)\nhead.next.next.next.next.next.next = ListNode(7)\nhead.next.next.next.next.next.next.next = ListNode(8)\n\nk = 4\nnew_head = reverseKGroup(head, k)\n\ncurrent = new_head\nwhile current:\n    print(current.val, end=\" \")\n    current = current.next\n",
      "metadata": {
        "trusted": true
      },
      "execution_count": 7,
      "outputs": [
        {
          "name": "stdout",
          "text": "4 2 2 1 8 7 6 5 ",
          "output_type": "stream"
        }
      ],
      "id": "fd20ff69-cc2f-4890-a3b3-482ee8c826a2"
    },
    {
      "cell_type": "markdown",
      "source": "Question 4\n\nGiven a linked list, write a function to reverse every alternate k nodes (where k is an input to the function) in an efficient way. Give the complexity of your algorithm.\n",
      "metadata": {},
      "id": "ac4d8752-d127-41e2-921e-0e06257ea57e"
    },
    {
      "cell_type": "code",
      "source": "class ListNode:\n    def __init__(self, val=0, next=None):\n        self.val = val\n        self.next = next\n\ndef reverseAlternateKNodes(head, k):\n    current = head\n    prev = None\n    reverse = False\n\n    while current:\n        count = 0\n        start = current\n        prev_group = prev\n\n        while current and count < k:\n            current = current.next\n            count += 1\n\n        if reverse:\n            prev = reverseGroup(start, count)\n\n        if prev_group:\n            prev_group.next = prev\n\n        if prev:\n            prev.next = current\n        prev = start\n        reverse = not reverse\n    return head\ndef reverseGroup(head, k):\n    prev = None\n    current = head\n\n    while current and k > 0:\n        next_node = current.next\n        current.next = prev\n        prev = current\n        current = next_node\n        k -= 1\n\n    return prev\nhead = ListNode(1)\nhead.next = ListNode(2)\nhead.next.next = ListNode(3)\nhead.next.next.next = ListNode(4)\nhead.next.next.next.next = ListNode(5)\nhead.next.next.next.next.next = ListNode(6)\nhead.next.next.next.next.next.next = ListNode(7)\nhead.next.next.next.next.next.next.next = ListNode(8)\nhead.next.next.next.next.next.next.next.next = ListNode(9)\n\nk = 3\nnew_head = reverseAlternateKNodes(head, k)\n\ncurrent = new_head\nwhile current:\n    print(current.val, end=\" \")\n    current = current.next\n",
      "metadata": {
        "trusted": true
      },
      "execution_count": 10,
      "outputs": [
        {
          "name": "stdout",
          "text": "1 6 7 8 9 ",
          "output_type": "stream"
        }
      ],
      "id": "f813ce74-98c8-4aee-9984-592e87abf052"
    },
    {
      "cell_type": "markdown",
      "source": "Question 5\n\nGiven a linked list and a key to be deleted. Delete last occurrence of key from linked. The list may have duplicates.",
      "metadata": {},
      "id": "076cd3b8-6dae-48fb-95d0-a37d50f407a7"
    },
    {
      "cell_type": "code",
      "source": "class ListNode:\n    def __init__(self, val=0, next=None):\n        self.val = val\n        self.next = next\n\ndef deleteLastOccurrence(head, key):\n    if not head:\n        return head\n\n    last_occurrence = None\n    prev_last_occurrence = None\n\n    current = head\n    prev = None\n    while current:\n        if current.val == key:\n            last_occurrence = current\n            prev_last_occurrence = prev\n\n        prev = current\n        current = current.next\n    if last_occurrence:\n        if prev_last_occurrence:\n            prev_last_occurrence.next = last_occurrence.next\n        else:\n            head = head.next\n\n    return head\nhead = ListNode(1)\nhead.next = ListNode(2)\nhead.next.next = ListNode(3)\nhead.next.next.next = ListNode(5)\nhead.next.next.next.next = ListNode(2)\nhead.next.next.next.next.next = ListNode(10)\nkey = 2\nnew_head = deleteLastOccurrence(head, key)\ncurrent = new_head\nwhile current:\n    print(current.val, end=\" \")\n    current = current.next\n",
      "metadata": {
        "trusted": true
      },
      "execution_count": 12,
      "outputs": [
        {
          "name": "stdout",
          "text": "1 2 3 5 10 ",
          "output_type": "stream"
        }
      ],
      "id": "c4da347a-c355-487b-ab82-62a5c0bb2b9f"
    },
    {
      "cell_type": "markdown",
      "source": "Question 6\nGiven two sorted linked lists consisting of N and M nodes respectively. The task is to merge both of the lists (in place) and return the head of the merged list.\n",
      "metadata": {},
      "id": "5b08c690-59ac-46a4-bc2a-1a2ff23ef963"
    },
    {
      "cell_type": "code",
      "source": "class ListNode:\n    def __init__(self, val=0, next=None):\n        self.val = val\n        self.next = next\n\ndef mergeTwoLists(a, b):\n    if not a:\n        return b\n    if not b:\n        return a\n\n    dummy = ListNode(-1)\n    tail = dummy\n\n    while a and b:\n        if a.val <= b.val:\n            tail.next = a\n            a = a.next\n        else:\n            tail.next = b\n            b = b.next\n        tail = tail.next\n\n    if a:\n        tail.next = a\n    if b:\n        tail.next = b\n\n    return dummy.next\na = ListNode(5)\na.next = ListNode(10)\na.next.next = ListNode(15)\n\nb = ListNode(2)\nb.next = ListNode(3)\nb.next.next = ListNode(20)\nmerged = mergeTwoLists(a, b)\n\ncurrent = merged\nwhile current:\n    print(current.val, end=\" \")\n    current = current.next\n",
      "metadata": {
        "trusted": true
      },
      "execution_count": 15,
      "outputs": [
        {
          "name": "stdout",
          "text": "2 3 5 10 15 20 ",
          "output_type": "stream"
        }
      ],
      "id": "8c988cf4-0c21-4218-8f22-d6715d7bb217"
    },
    {
      "cell_type": "markdown",
      "source": "Question 7\nGiven a Doubly Linked List, the task is to reverse the given Doubly Linked List.",
      "metadata": {},
      "id": "59b00c3a-3aad-4924-952d-4885dc0bff17"
    },
    {
      "cell_type": "code",
      "source": "class ListNode:\n    def __init__(self, val=0, prev=None, next=None):\n        self.val = val\n        self.prev = prev\n        self.next = next\n\ndef reverseDLL(head):\n\n    if not head or not head.next:\n        return head\n\n\n    prev = None\n    curr = head\n\n    while curr:\n        \n        next_node = curr.next\n        curr.next = prev\n        curr.prev = next_node\n\n        prev = curr\n        curr = next_node\n\n    head = prev\n\n    return head\n\nhead = ListNode(10)\nnode2 = ListNode(8)\nnode4 = ListNode(4)\nnode2.next = head\nhead.prev = node2\nnode4.next = node2\nnode2.prev = node4\nhead = node4\n\nreversed_head = reverseDLL(head)\n\ncurrent = reversed_head\nwhile current:\n    print(current.val, end=\" \")\n    current = current.next\n",
      "metadata": {
        "trusted": true
      },
      "execution_count": 19,
      "outputs": [
        {
          "name": "stdout",
          "text": "10 8 4 ",
          "output_type": "stream"
        }
      ],
      "id": "11b6e3d4-bdb6-46fc-a4bd-c869de70225d"
    },
    {
      "cell_type": "markdown",
      "source": "Question 8\n\nGiven a doubly linked list and a position. The task is to delete a node from given position in a doubly linked list.",
      "metadata": {},
      "id": "9fd3be11-7f0f-4959-8bd6-a381b79ff183"
    },
    {
      "cell_type": "code",
      "source": "class ListNode:\n    def __init__(self, val=0, prev=None, next=None):\n        self.val = val\n        self.prev = prev\n        self.next = next\n\ndef deleteNode(head, position):\n    \n    if not head:\n        return head\n\n    if position == 0:\n        if head.next:\n            head.next.prev = None\n        head = head.next\n        return head\n\n    current = head\n    count = 0\n    while current and count < position:\n        current = current.next\n        count += 1\n\n    if not current:\n        return head\n\n    if current.prev:\n        current.prev.next = current.next\n    if current.next:\n        current.next.prev = current.prev\n\n    return head\n\nhead = ListNode(1)\nnode2 = ListNode(5)\nnode9 = ListNode(2)\nnode2.next = head\nhead.prev = node2\nnode9.prev = node2\nnode2.next = node9\n\nnew_head = deleteNode(head, 1)\n\ncurrent = new_head\nwhile current:\n    print(current.val, end=\" \")\n    current = current.next\n",
      "metadata": {
        "trusted": true
      },
      "execution_count": 20,
      "outputs": [
        {
          "name": "stdout",
          "text": "1 ",
          "output_type": "stream"
        }
      ],
      "id": "87c52290-5609-4dd3-85fa-59e97f2b3fb3"
    },
    {
      "cell_type": "code",
      "source": "",
      "metadata": {},
      "execution_count": null,
      "outputs": [],
      "id": "d3cbeffc-7b38-4770-9cfc-57929e5122ca"
    }
  ]
}